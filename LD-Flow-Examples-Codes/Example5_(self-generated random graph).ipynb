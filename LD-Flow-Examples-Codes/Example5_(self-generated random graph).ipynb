{
 "cells": [
  {
   "cell_type": "code",
   "execution_count": null,
   "metadata": {},
   "outputs": [
    {
     "name": "stderr",
     "output_type": "stream",
     "text": [
      "/opt/anaconda3/envs/thesis/lib/python3.12/site-packages/dash_bootstrap_components/_table.py:5: UserWarning: \n",
      "The dash_html_components package is deprecated. Please replace\n",
      "`import dash_html_components as html` with `from dash import html`\n",
      "  import dash_html_components as html\n"
     ]
    }
   ],
   "source": [
    "import sys, os\n",
    "sys.path.append(os.path.abspath(\"/Users/DavidHolzwarth/Uni/EPFL/bachelors-thesis\"))\n",
    "\n",
    "from LP import resolve_delegations_LP, invert_graph, set_up_LP, solve_LP\n",
    "from graph_viz import visualize_delegation_graph\n",
    "from iterative import iterate_delegations\n",
    "from graph_gen import create_delegation_graph\n",
    "import json"
   ]
  },
  {
   "cell_type": "code",
   "execution_count": 3,
   "metadata": {},
   "outputs": [
    {
     "name": "stdout",
     "output_type": "stream",
     "text": [
      "{'0': 3.0, '1': 2.0, '2': 1.4333333, '3': 4.5666667, '4': 4.1666667, '5': 1.0, '6': 1.0, '7': 2.0, '8': 1.0, '9': 1.0, '__dummy': None}\n"
     ]
    },
    {
     "data": {
      "text/plain": [
       "[('0', 3.0), ('2', 1.4333333), ('3', 4.5666667), ('5', 1.0)]"
      ]
     },
     "metadata": {},
     "output_type": "display_data"
    },
    {
     "name": "stdout",
     "output_type": "stream",
     "text": [
      "Parsing the data...Done\n"
     ]
    },
    {
     "data": {
      "text/html": [
       "\n",
       "        <iframe\n",
       "            width=\"100%\"\n",
       "            height=\"650\"\n",
       "            src=\"http://127.0.0.1:8050/\"\n",
       "            frameborder=\"0\"\n",
       "            allowfullscreen\n",
       "            \n",
       "        ></iframe>\n",
       "        "
      ],
      "text/plain": [
       "<IPython.lib.display.IFrame at 0x159e53320>"
      ]
     },
     "metadata": {},
     "output_type": "display_data"
    },
    {
     "name": "stdout",
     "output_type": "stream",
     "text": [
      "No trigger\n"
     ]
    }
   ],
   "source": [
    "delegations, nodes = create_delegation_graph(10, 2)\n",
    "\n",
    "model, _ = set_up_LP(invert_graph(delegations), nodes)\n",
    "\n",
    "#%timeit solve_LP(model)\n",
    "#%timeit iterate_delegations(invert_graph(delegations), nodes)\n",
    "powers, sink_nodes = resolve_delegations_LP(invert_graph(delegations), nodes)\n",
    "\n",
    "print(powers)\n",
    "\n",
    "powers = {node: power if node in sink_nodes else 0 for node, power in powers.items()}\n",
    "relevant_powers = [(node, powers[node]) for node in nodes if node in sink_nodes]\n",
    "display(relevant_powers)\n",
    "visualize_delegation_graph(delegations, powers)"
   ]
  },
  {
   "cell_type": "code",
   "execution_count": null,
   "metadata": {},
   "outputs": [
    {
     "data": {
      "text/plain": [
       "DelegationResolution:\n",
       "MINIMIZE\n",
       "None\n",
       "SUBJECT TO\n",
       "Constraint_1: 1 - 6 = 1\n",
       "\n",
       "Constraint_9: 9 = 1\n",
       "\n",
       "Constraint_4: 0.24 4 = 1\n",
       "\n",
       "Constraint_6: 6 = 1\n",
       "\n",
       "Constraint_8: 8 = 1\n",
       "\n",
       "Constraint_7: 7 - 9 = 1\n",
       "\n",
       "SinkNodesConstraint: 0 + 2 + 3 + 5 = 10\n",
       "\n",
       "VARIABLES\n",
       "0 free Continuous\n",
       "1 free Continuous\n",
       "2 free Continuous\n",
       "3 free Continuous\n",
       "4 free Continuous\n",
       "5 free Continuous\n",
       "6 free Continuous\n",
       "7 free Continuous\n",
       "8 free Continuous\n",
       "9 free Continuous"
      ]
     },
     "metadata": {},
     "output_type": "display_data"
    }
   ],
   "source": []
  },
  {
   "cell_type": "markdown",
   "metadata": {},
   "source": []
  }
 ],
 "metadata": {
  "kernelspec": {
   "display_name": "thesis",
   "language": "python",
   "name": "python3"
  },
  "language_info": {
   "codemirror_mode": {
    "name": "ipython",
    "version": 3
   },
   "file_extension": ".py",
   "mimetype": "text/x-python",
   "name": "python",
   "nbconvert_exporter": "python",
   "pygments_lexer": "ipython3",
   "version": "3.12.9"
  }
 },
 "nbformat": 4,
 "nbformat_minor": 2
}
