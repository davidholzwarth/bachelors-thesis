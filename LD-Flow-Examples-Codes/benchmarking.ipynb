{
 "cells": [
  {
   "cell_type": "code",
   "execution_count": null,
   "metadata": {},
   "outputs": [
    {
     "name": "stdout",
     "output_type": "stream",
     "text": [
      "IGRAPH D--- 5 8 --\n",
      "+ edges:\n",
      "1->0 2->0 3->0 3->1 3->2 4->3 4->1 4->0\n"
     ]
    },
    {
     "ename": "KeyError",
     "evalue": "'Attribute does not exist'",
     "output_type": "error",
     "traceback": [
      "\u001b[31m---------------------------------------------------------------------------\u001b[39m",
      "\u001b[31mKeyError\u001b[39m                                  Traceback (most recent call last)",
      "\u001b[36mCell\u001b[39m\u001b[36m \u001b[39m\u001b[32mIn[6]\u001b[39m\u001b[32m, line 18\u001b[39m\n\u001b[32m     15\u001b[39m     \u001b[38;5;28;01mif\u001b[39;00m edge.source \u001b[38;5;129;01mnot\u001b[39;00m \u001b[38;5;129;01min\u001b[39;00m test_graph_dict:\n\u001b[32m     16\u001b[39m         test_graph_dict[edge.source] = {}\n\u001b[32m---> \u001b[39m\u001b[32m18\u001b[39m     test_graph_dict[edge.source][edge.target] = \u001b[43medge\u001b[49m\u001b[43m[\u001b[49m\u001b[33;43m\"\u001b[39;49m\u001b[33;43mweight\u001b[39;49m\u001b[33;43m\"\u001b[39;49m\u001b[43m]\u001b[49m\n\u001b[32m     20\u001b[39m visualize_delegation_graph(test_graph_dict, powers)\n",
      "\u001b[31mKeyError\u001b[39m: 'Attribute does not exist'"
     ]
    }
   ],
   "source": [
    "# TODO: This is annoying, since the generated graph has no edge weights yet, so that makes it tricky. Maybe come back to this to get this to work, but the\n",
    "# time being, my generator does like the same, but in a way that works for us\n",
    "import sys, os\n",
    "sys.path.append(os.path.abspath(\"/Users/DavidHolzwarth/Uni/EPFL/bachelors-thesis\"))\n",
    "\n",
    "import igraph as ig\n",
    "import numpy as np\n",
    "from graph_viz import visualize_delegation_graph\n",
    "\n",
    "n = 5\n",
    "m = [np.random.randint(1, 4) for _ in range(n)]\n",
    "powers = [0] * n\n",
    "test_graph = ig.Graph.Barabasi(n, m, directed=True)\n",
    "print(test_graph)\n",
    "test_graph_dict = {}\n",
    "for edge in test_graph.es:\n",
    "    if edge.source not in test_graph_dict:\n",
    "        test_graph_dict[edge.source] = {}\n",
    "\n",
    "    test_graph_dict[edge.source][edge.target] = edge[\"weight\"]\n",
    "\n",
    "visualize_delegation_graph(test_graph_dict, powers)"
   ]
  },
  {
   "cell_type": "code",
   "execution_count": null,
   "metadata": {},
   "outputs": [],
   "source": []
  }
 ],
 "metadata": {
  "kernelspec": {
   "display_name": "thesis",
   "language": "python",
   "name": "python3"
  },
  "language_info": {
   "codemirror_mode": {
    "name": "ipython",
    "version": 3
   },
   "file_extension": ".py",
   "mimetype": "text/x-python",
   "name": "python",
   "nbconvert_exporter": "python",
   "pygments_lexer": "ipython3",
   "version": "3.12.9"
  }
 },
 "nbformat": 4,
 "nbformat_minor": 2
}
