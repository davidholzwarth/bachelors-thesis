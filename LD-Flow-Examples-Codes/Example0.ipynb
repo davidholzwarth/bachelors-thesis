{
 "cells": [
  {
   "cell_type": "code",
   "execution_count": 1,
   "metadata": {},
   "outputs": [
    {
     "name": "stdout",
     "output_type": "stream",
     "text": [
      "0.0 2.0 1.0\n"
     ]
    }
   ],
   "source": [
    "# trying it manually\n",
    "\n",
    "p_A, p_B, p_C = 0, 0, 0\n",
    "\n",
    "num_iterations = 10\n",
    "\n",
    "for i in range (num_iterations):\n",
    "    # each iteration, add one more power to each person, and do the delegations\n",
    "    p_A = p_A + 1\n",
    "    p_B = p_B + 1 \n",
    "    p_C = p_C + 1\n",
    "\n",
    "    # delegation A->B\n",
    "    p_B += p_A\n",
    "    p_A -= p_A\n",
    "\n",
    "print(p_A / num_iterations, \n",
    "      p_B / num_iterations, \n",
    "      p_C / num_iterations)"
   ]
  },
  {
   "cell_type": "code",
   "execution_count": null,
   "metadata": {},
   "outputs": [],
   "source": []
  }
 ],
 "metadata": {
  "kernelspec": {
   "display_name": "thesis",
   "language": "python",
   "name": "python3"
  },
  "language_info": {
   "codemirror_mode": {
    "name": "ipython",
    "version": 3
   },
   "file_extension": ".py",
   "mimetype": "text/x-python",
   "name": "python",
   "nbconvert_exporter": "python",
   "pygments_lexer": "ipython3",
   "version": "3.13.1"
  }
 },
 "nbformat": 4,
 "nbformat_minor": 2
}
