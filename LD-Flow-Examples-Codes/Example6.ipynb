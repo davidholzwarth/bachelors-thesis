{
 "cells": [
  {
   "cell_type": "code",
   "execution_count": 1,
   "metadata": {},
   "outputs": [
    {
     "name": "stderr",
     "output_type": "stream",
     "text": [
      "/opt/anaconda3/envs/thesis/lib/python3.12/site-packages/dash_bootstrap_components/_table.py:5: UserWarning: \n",
      "The dash_html_components package is deprecated. Please replace\n",
      "`import dash_html_components as html` with `from dash import html`\n",
      "  import dash_html_components as html\n"
     ]
    },
    {
     "name": "stdout",
     "output_type": "stream",
     "text": [
      "17.3 ms ± 37 μs per loop (mean ± std. dev. of 7 runs, 100 loops each)\n",
      "({'A': 20000.0, 'B': 19999.0, 'C': 3.0}, ['C'])\n",
      "142 ms ± 3.66 ms per loop (mean ± std. dev. of 7 runs, 10 loops each)\n",
      "{'A': 0.0009999098850159882, 'B': 0.0009999098850160255, 'C': 2.9980001802300764}\n"
     ]
    }
   ],
   "source": [
    "import sys, os\n",
    "sys.path.append(os.path.abspath(\"/Users/DavidHolzwarth/Uni/EPFL/bachelors-thesis\"))\n",
    "\n",
    "from graph_viz import visualize_delegation_graph\n",
    "from LP import invert_graph, resolve_delegations_LP, set_up_LP, solve_LP\n",
    "from iterative import iterate_delegations\n",
    "\n",
    "\n",
    "delegations = {\n",
    "    \"A\": {\"B\": 0.9999,\n",
    "          \"C\": 0.0001},\n",
    "    \"B\": {\"A\": 1}}\n",
    "\n",
    "nodes = [\"A\", \"B\", \"C\"]\n",
    "\n",
    "delegations = invert_graph(delegations)\n",
    "\n",
    "model, _, _ = set_up_LP(delegations, nodes)\n",
    "\n",
    "%timeit solve_LP(model)\n",
    "print(resolve_delegations_LP(delegations, nodes))\n",
    "%timeit iterate_delegations(delegations, nodes)\n",
    "\n",
    "print(iterate_delegations(delegations, nodes))"
   ]
  },
  {
   "cell_type": "markdown",
   "metadata": {},
   "source": [
    "# Findings\n",
    "\n",
    "delegations = {\n",
    "    \"A\": {\"B\": 0.9999,\n",
    "          \"C\": 0.0001},\n",
    "    \"B\": {\"A\": 1}}\n",
    "\n",
    "- LP: 17.3 ms ± 37 μs per loop (mean ± std. dev. of 7 runs, 100 loops each)\n",
    "\n",
    "- Iterative: 142 ms ± 3.66 ms per loop (mean ± std. dev. of 7 runs, 10 loops each), iterated 138150 times with a cutoff of 0.001\n",
    "\n",
    "Also, when making the delegation to C smaller, LPs runtime does not change drastically.\n",
    "When A->C has a weight of 10^-6, as opposed to 10^-4, the runtimes are:\n",
    "\n",
    "- LP: 18.3 ms ± 474 μs per loop (mean ± std. dev. of 7 runs, 100 loops each)\n",
    "\n",
    "- Iterative: 14.2 s ± 111 ms per loop (mean ± std. dev. of 7 runs, 1 loop each)\n",
    "\n",
    "\n",
    "\n",
    "\n"
   ]
  },
  {
   "cell_type": "code",
   "execution_count": null,
   "metadata": {},
   "outputs": [],
   "source": []
  }
 ],
 "metadata": {
  "kernelspec": {
   "display_name": "thesis",
   "language": "python",
   "name": "python3"
  },
  "language_info": {
   "codemirror_mode": {
    "name": "ipython",
    "version": 3
   },
   "file_extension": ".py",
   "mimetype": "text/x-python",
   "name": "python",
   "nbconvert_exporter": "python",
   "pygments_lexer": "ipython3",
   "version": "3.12.9"
  }
 },
 "nbformat": 4,
 "nbformat_minor": 2
}
