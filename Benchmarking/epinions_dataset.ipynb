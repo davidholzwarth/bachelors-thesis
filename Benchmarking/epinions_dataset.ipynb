{
 "cells": [
  {
   "cell_type": "code",
   "execution_count": null,
   "id": "a4976d27",
   "metadata": {},
   "outputs": [],
   "source": [
    "import sys, os\n",
    "sys.path.append(os.path.abspath(\"/Users/DavidHolzwarth/Uni/EPFL/bachelors-thesis\"))\n",
    "\n",
    "import time\n",
    "import matplotlib.pyplot as plt\n",
    "\n",
    "import LE as le\n",
    "import LP as lp\n",
    "import iterative as iterative\n",
    "import logger_creator\n",
    "\n",
    "import graph_tools\n",
    "import networkx as nx\n",
    "import numpy as np\n",
    "import pandas as pd"
   ]
  },
  {
   "cell_type": "code",
   "execution_count": 44,
   "id": "4b3c53aa",
   "metadata": {},
   "outputs": [
    {
     "data": {
      "text/plain": [
       "<module 'graph_tools' from '/Users/DavidHolzwarth/Uni/EPFL/bachelors-thesis/graph_tools.py'>"
      ]
     },
     "execution_count": 44,
     "metadata": {},
     "output_type": "execute_result"
    }
   ],
   "source": [
    "import importlib\n",
    "importlib.reload(graph_tools)"
   ]
  },
  {
   "cell_type": "markdown",
   "id": "cb5f701d",
   "metadata": {},
   "source": [
    "# Create Graph"
   ]
  },
  {
   "cell_type": "code",
   "execution_count": 54,
   "id": "930701b3",
   "metadata": {},
   "outputs": [
    {
     "name": "stdout",
     "output_type": "stream",
     "text": [
      "75879\n",
      "508837\n"
     ]
    }
   ],
   "source": [
    "epinions_graph = nx.read_edgelist(\n",
    "    \"../datasets/soc-Epinions1_clean.txt\",\n",
    "    comments=\"#\",\n",
    "    delimiter=\"\\t\",\n",
    "    create_using=nx.DiGraph,\n",
    "    nodetype=str,\n",
    ")\n",
    "\n",
    "print(len(list(epinions_graph.nodes())))\n",
    "print(len(list(epinions_graph.edges())))"
   ]
  },
  {
   "cell_type": "code",
   "execution_count": 55,
   "id": "6fdacd44",
   "metadata": {},
   "outputs": [],
   "source": [
    "epinions_graph_prepared = None\n",
    "epinions_graph_prepared = graph_tools.prepare_graph(epinions_graph.nodes(), epinions_graph.edges(), sink_frac=0.0)\n",
    "nodes = epinions_graph_prepared.nodes()\n",
    "delegations_orig = graph_tools.nx_graph_to_dict(epinions_graph_prepared)\n",
    "delegations = graph_tools.invert_graph(delegations_orig)"
   ]
  },
  {
   "cell_type": "markdown",
   "id": "7529f407",
   "metadata": {},
   "source": [
    "# Explore Graph"
   ]
  },
  {
   "cell_type": "code",
   "execution_count": 96,
   "id": "5272d992",
   "metadata": {},
   "outputs": [
    {
     "data": {
      "application/vnd.microsoft.datawrangler.viewer.v0+json": {
       "columns": [
        {
         "name": "index",
         "rawType": "object",
         "type": "string"
        },
        {
         "name": "0",
         "rawType": "float64",
         "type": "float"
        }
       ],
       "ref": "828cf837-2cb9-4e51-86fd-4eb6d34af8e6",
       "rows": [
        [
         "count",
         "75139.0"
        ],
        [
         "mean",
         "6.756344907438215"
        ],
        [
         "std",
         "26.077540248017254"
        ],
        [
         "min",
         "0.0"
        ],
        [
         "25%",
         "1.0"
        ],
        [
         "50%",
         "1.0"
        ],
        [
         "75%",
         "3.0"
        ],
        [
         "max",
         "1794.0"
        ]
       ],
       "shape": {
        "columns": 1,
        "rows": 8
       }
      },
      "text/plain": [
       "count    75139.000000\n",
       "mean         6.756345\n",
       "std         26.077540\n",
       "min          0.000000\n",
       "25%          1.000000\n",
       "50%          1.000000\n",
       "75%          3.000000\n",
       "max       1794.000000\n",
       "dtype: float64"
      ]
     },
     "metadata": {},
     "output_type": "display_data"
    },
    {
     "data": {
      "image/png": "[encoded data removed]",
      "text/plain": [
       "<Figure size 640x480 with 1 Axes>"
      ]
     },
     "metadata": {},
     "output_type": "display_data"
    }
   ],
   "source": [
    "# Distribution of the outdegree\n",
    "outdegrees = pd.Series([len(delegations_orig[node]) for node in nodes])\n",
    "\n",
    "display(outdegrees.describe())\n",
    "\n",
    "plt.figure()\n",
    "plt.hist(outdegrees, bins=50)\n",
    "plt.xlabel('Outdegree')\n",
    "plt.ylabel('Number of Nodes')\n",
    "plt.title('Distribution of Outdegrees')\n",
    "plt.yscale('log')\n",
    "plt.xlim(0, outdegrees.max() * 1.1) \n",
    "plt.show()"
   ]
  },
  {
   "cell_type": "code",
   "execution_count": 32,
   "id": "90bb0fcf",
   "metadata": {},
   "outputs": [
    {
     "name": "stdout",
     "output_type": "stream",
     "text": [
      "Number of sinks: 15539\n",
      "Total number of nodes: 75139\n",
      "Fraction of sinks: 0.20680339104858994\n"
     ]
    }
   ],
   "source": [
    "# Number of sinks vs total number of nodes\n",
    "sinks = [node for node in nodes if len(delegations_orig[node]) == 0]\n",
    "print(\"Number of sinks:\", len(sinks))\n",
    "print(\"Total number of nodes:\", len(nodes))\n",
    "print(\"Fraction of sinks:\", len(sinks) / len(nodes))"
   ]
  },
  {
   "cell_type": "markdown",
   "id": "218f5569",
   "metadata": {},
   "source": [
    "2025-06-24 11:22:59,391 - INFO - Initially 75879 nodes, after collapsing terminal SCCs 75139 nodes remain. In total 330 terminal SCCs were collapsed."
   ]
  },
  {
   "cell_type": "code",
   "execution_count": 92,
   "id": "f28047b1",
   "metadata": {},
   "outputs": [
    {
     "name": "stdout",
     "output_type": "stream",
     "text": [
      "Amount of removed edges 740\n",
      "Fraction of removed nodes: 0.009848414272215495\n",
      "Average number of nodes per closed delegation cycle: 2.242424242424242\n"
     ]
    }
   ],
   "source": [
    "removed_nodes = 75879 - 75139\n",
    "amount_of_clos_deg_cycles = 330\n",
    "print(\"Amount of removed edges\", removed_nodes)\n",
    "print(\"Fraction of removed nodes:\", removed_nodes / len(nodes))\n",
    "print(\"Average number of nodes per closed delegation cycle:\", removed_nodes / amount_of_clos_deg_cycles)"
   ]
  },
  {
   "cell_type": "markdown",
   "id": "a779a309",
   "metadata": {},
   "source": [
    "# Get and Explore Results"
   ]
  },
  {
   "cell_type": "code",
   "execution_count": 45,
   "id": "d77ffeb9",
   "metadata": {},
   "outputs": [],
   "source": [
    "powers, sinks = le.resolve_delegations(delegations, nodes)"
   ]
  },
  {
   "cell_type": "code",
   "execution_count": null,
   "id": "3dec866c",
   "metadata": {},
   "outputs": [],
   "source": [
    "powers_df = pd.DataFrame.from_dict(powers, orient=\"index\", columns=[\"power\"])"
   ]
  },
  {
   "cell_type": "code",
   "execution_count": 91,
   "id": "89aa0274",
   "metadata": {},
   "outputs": [
    {
     "name": "stdout",
     "output_type": "stream",
     "text": [
      "Total lost power: power    2777.056087\n",
      "Name: lost, dtype: float64\n",
      "Fraction of lost power: power    0.036959\n",
      "Name: lost, dtype: float64\n"
     ]
    }
   ],
   "source": [
    "lost_power = powers_df.loc[\"lost\"] + removed_nodes\n",
    "print(\"Total lost power:\", lost_power)\n",
    "print(\"Fraction of lost power:\", lost_power / len(nodes))"
   ]
  },
  {
   "cell_type": "markdown",
   "id": "78b083f8",
   "metadata": {},
   "source": [
    "## With \"lost\" power"
   ]
  },
  {
   "cell_type": "code",
   "execution_count": null,
   "id": "9fe6311e",
   "metadata": {},
   "outputs": [
    {
     "data": {
      "application/vnd.microsoft.datawrangler.viewer.v0+json": {
       "columns": [
        {
         "name": "index",
         "rawType": "object",
         "type": "string"
        },
        {
         "name": "power",
         "rawType": "float64",
         "type": "float"
        }
       ],
       "ref": "358f961e-34d1-41d3-9839-3156a9f059ec",
       "rows": [
        [
         "count",
         "75139.0"
        ],
        [
         "mean",
         "0.9999999999999367"
        ],
        [
         "std",
         "15.146525368083138"
        ],
        [
         "min",
         "0.0"
        ],
        [
         "25%",
         "0.0"
        ],
        [
         "50%",
         "0.0"
        ],
        [
         "75%",
         "0.0"
        ],
        [
         "max",
         "2037.0560874452503"
        ]
       ],
       "shape": {
        "columns": 1,
        "rows": 8
       }
      },
      "text/html": [
       "<div>\n",
       "<style scoped>\n",
       "    .dataframe tbody tr th:only-of-type {\n",
       "        vertical-align: middle;\n",
       "    }\n",
       "\n",
       "    .dataframe tbody tr th {\n",
       "        vertical-align: top;\n",
       "    }\n",
       "\n",
       "    .dataframe thead th {\n",
       "        text-align: right;\n",
       "    }\n",
       "</style>\n",
       "<table border=\"1\" class=\"dataframe\">\n",
       "  <thead>\n",
       "    <tr style=\"text-align: right;\">\n",
       "      <th></th>\n",
       "      <th>power</th>\n",
       "    </tr>\n",
       "  </thead>\n",
       "  <tbody>\n",
       "    <tr>\n",
       "      <th>count</th>\n",
       "      <td>75139.000000</td>\n",
       "    </tr>\n",
       "    <tr>\n",
       "      <th>mean</th>\n",
       "      <td>1.000000</td>\n",
       "    </tr>\n",
       "    <tr>\n",
       "      <th>std</th>\n",
       "      <td>15.146525</td>\n",
       "    </tr>\n",
       "    <tr>\n",
       "      <th>min</th>\n",
       "      <td>0.000000</td>\n",
       "    </tr>\n",
       "    <tr>\n",
       "      <th>25%</th>\n",
       "      <td>0.000000</td>\n",
       "    </tr>\n",
       "    <tr>\n",
       "      <th>50%</th>\n",
       "      <td>0.000000</td>\n",
       "    </tr>\n",
       "    <tr>\n",
       "      <th>75%</th>\n",
       "      <td>0.000000</td>\n",
       "    </tr>\n",
       "    <tr>\n",
       "      <th>max</th>\n",
       "      <td>2037.056087</td>\n",
       "    </tr>\n",
       "  </tbody>\n",
       "</table>\n",
       "</div>"
      ],
      "text/plain": [
       "              power\n",
       "count  75139.000000\n",
       "mean       1.000000\n",
       "std       15.146525\n",
       "min        0.000000\n",
       "25%        0.000000\n",
       "50%        0.000000\n",
       "75%        0.000000\n",
       "max     2037.056087"
      ]
     },
     "execution_count": 40,
     "metadata": {},
     "output_type": "execute_result"
    }
   ],
   "source": [
    "powers_df.describe()"
   ]
  },
  {
   "cell_type": "code",
   "execution_count": 41,
   "id": "0735d0d4",
   "metadata": {},
   "outputs": [
    {
     "data": {
      "application/vnd.microsoft.datawrangler.viewer.v0+json": {
       "columns": [
        {
         "name": "index",
         "rawType": "object",
         "type": "string"
        },
        {
         "name": "power",
         "rawType": "float64",
         "type": "float"
        }
       ],
       "ref": "9d96701c-2f7d-4b01-b01f-00d887dd368d",
       "rows": [
        [
         "lost",
         "2037.0560874452503"
        ],
        [
         "5250",
         "1755.0904541247667"
        ],
        [
         "548",
         "1705.662438565049"
        ],
        [
         "4055",
         "1578.994994553531"
        ],
        [
         "5273",
         "1036.9670934200608"
        ],
        [
         "22805",
         "714.0178103503686"
        ],
        [
         "4788",
         "683.5329956167266"
        ],
        [
         "13136",
         "518.157226030738"
        ],
        [
         "4574",
         "507.50663455596924"
        ],
        [
         "5444",
         "467.1804635106242"
        ],
        [
         "6689",
         "430.2453418242523"
        ],
        [
         "4553",
         "380.7491331724099"
        ],
        [
         "7437",
         "364.13951334358495"
        ],
        [
         "6698",
         "352.6651680029553"
        ],
        [
         "4327",
         "346.1207735812786"
        ],
        [
         "12193",
         "293.2315135237688"
        ],
        [
         "2963",
         "259.8357715696415"
        ],
        [
         "17240",
         "218.93746808220303"
        ],
        [
         "4052",
         "213.8130079311531"
        ],
        [
         "15545",
         "200.76780285866585"
        ],
        [
         "12246",
         "159.28907899331887"
        ],
        [
         "7695",
         "152.78362046567779"
        ],
        [
         "2463",
         "146.19899422348286"
        ],
        [
         "8739",
         "136.4014057374388"
        ],
        [
         "24838",
         "123.14556833647838"
        ],
        [
         "11762",
         "115.07094900214646"
        ],
        [
         "17327",
         "107.13941546105772"
        ],
        [
         "35084",
         "104.36686439615822"
        ],
        [
         "23837",
         "98.66379194454261"
        ],
        [
         "41628",
         "94.77065408150476"
        ],
        [
         "14056",
         "92.01198171571292"
        ],
        [
         "24896",
         "91.84597909552598"
        ],
        [
         "44940",
         "90.13787367792867"
        ],
        [
         "16536",
         "86.20221669046082"
        ],
        [
         "11468",
         "79.34981006590158"
        ],
        [
         "7245",
         "78.38987158410275"
        ],
        [
         "40385",
         "78.13474264834684"
        ],
        [
         "53599",
         "77.10673163809949"
        ],
        [
         "21447",
         "76.37217583107575"
        ],
        [
         "9547",
         "73.66068732107435"
        ],
        [
         "18245",
         "72.9849867033111"
        ],
        [
         "23279",
         "72.79762296534221"
        ],
        [
         "20351",
         "72.029898677056"
        ],
        [
         "18243",
         "69.38431155337716"
        ],
        [
         "22841",
         "67.25680656652754"
        ],
        [
         "71457",
         "64.3306693828641"
        ],
        [
         "9132",
         "64.29781522440813"
        ],
        [
         "21982",
         "64.0451078580239"
        ],
        [
         "15543",
         "63.16656429511658"
        ],
        [
         "24025",
         "62.834172148552334"
        ]
       ],
       "shape": {
        "columns": 1,
        "rows": 75139
       }
      },
      "text/html": [
       "<div>\n",
       "<style scoped>\n",
       "    .dataframe tbody tr th:only-of-type {\n",
       "        vertical-align: middle;\n",
       "    }\n",
       "\n",
       "    .dataframe tbody tr th {\n",
       "        vertical-align: top;\n",
       "    }\n",
       "\n",
       "    .dataframe thead th {\n",
       "        text-align: right;\n",
       "    }\n",
       "</style>\n",
       "<table border=\"1\" class=\"dataframe\">\n",
       "  <thead>\n",
       "    <tr style=\"text-align: right;\">\n",
       "      <th></th>\n",
       "      <th>power</th>\n",
       "    </tr>\n",
       "  </thead>\n",
       "  <tbody>\n",
       "    <tr>\n",
       "      <th>lost</th>\n",
       "      <td>2037.056087</td>\n",
       "    </tr>\n",
       "    <tr>\n",
       "      <th>5250</th>\n",
       "      <td>1755.090454</td>\n",
       "    </tr>\n",
       "    <tr>\n",
       "      <th>548</th>\n",
       "      <td>1705.662439</td>\n",
       "    </tr>\n",
       "    <tr>\n",
       "      <th>4055</th>\n",
       "      <td>1578.994995</td>\n",
       "    </tr>\n",
       "    <tr>\n",
       "      <th>5273</th>\n",
       "      <td>1036.967093</td>\n",
       "    </tr>\n",
       "    <tr>\n",
       "      <th>...</th>\n",
       "      <td>...</td>\n",
       "    </tr>\n",
       "    <tr>\n",
       "      <th>1808</th>\n",
       "      <td>0.000000</td>\n",
       "    </tr>\n",
       "    <tr>\n",
       "      <th>8883</th>\n",
       "      <td>0.000000</td>\n",
       "    </tr>\n",
       "    <tr>\n",
       "      <th>9998</th>\n",
       "      <td>0.000000</td>\n",
       "    </tr>\n",
       "    <tr>\n",
       "      <th>12390</th>\n",
       "      <td>0.000000</td>\n",
       "    </tr>\n",
       "    <tr>\n",
       "      <th>37605</th>\n",
       "      <td>0.000000</td>\n",
       "    </tr>\n",
       "  </tbody>\n",
       "</table>\n",
       "<p>75139 rows × 1 columns</p>\n",
       "</div>"
      ],
      "text/plain": [
       "             power\n",
       "lost   2037.056087\n",
       "5250   1755.090454\n",
       "548    1705.662439\n",
       "4055   1578.994995\n",
       "5273   1036.967093\n",
       "...            ...\n",
       "1808      0.000000\n",
       "8883      0.000000\n",
       "9998      0.000000\n",
       "12390     0.000000\n",
       "37605     0.000000\n",
       "\n",
       "[75139 rows x 1 columns]"
      ]
     },
     "metadata": {},
     "output_type": "display_data"
    }
   ],
   "source": [
    "display(powers_df.sort_values(by=\"power\", ascending=False))"
   ]
  },
  {
   "cell_type": "code",
   "execution_count": 95,
   "id": "46094370",
   "metadata": {},
   "outputs": [
    {
     "data": {
      "image/png": "[encoded data removed]",
      "text/plain": [
       "<Figure size 640x480 with 1 Axes>"
      ]
     },
     "metadata": {},
     "output_type": "display_data"
    }
   ],
   "source": [
    "plt.hist(powers_df['power'], bins=50)\n",
    "plt.xlabel('Power')\n",
    "plt.ylabel('Number of Nodes')\n",
    "plt.title('Histogram of Node Powers')\n",
    "plt.yscale('log')\n",
    "plt.show()"
   ]
  },
  {
   "cell_type": "markdown",
   "id": "2ea1d23c",
   "metadata": {},
   "source": [
    "## Without \"lost\" power"
   ]
  },
  {
   "cell_type": "code",
   "execution_count": 43,
   "id": "3f4f93c0",
   "metadata": {},
   "outputs": [
    {
     "data": {
      "application/vnd.microsoft.datawrangler.viewer.v0+json": {
       "columns": [
        {
         "name": "index",
         "rawType": "object",
         "type": "string"
        },
        {
         "name": "power",
         "rawType": "float64",
         "type": "float"
        }
       ],
       "ref": "94b85e2e-37b3-460a-9f14-da608b9d0bde",
       "rows": [
        [
         "count",
         "75138.0"
        ],
        [
         "mean",
         "0.9729024450018632"
        ],
        [
         "std",
         "13.20025278779807"
        ],
        [
         "min",
         "0.0"
        ],
        [
         "25%",
         "0.0"
        ],
        [
         "50%",
         "0.0"
        ],
        [
         "75%",
         "0.0"
        ],
        [
         "max",
         "1755.0904541247667"
        ]
       ],
       "shape": {
        "columns": 1,
        "rows": 8
       }
      },
      "text/html": [
       "<div>\n",
       "<style scoped>\n",
       "    .dataframe tbody tr th:only-of-type {\n",
       "        vertical-align: middle;\n",
       "    }\n",
       "\n",
       "    .dataframe tbody tr th {\n",
       "        vertical-align: top;\n",
       "    }\n",
       "\n",
       "    .dataframe thead th {\n",
       "        text-align: right;\n",
       "    }\n",
       "</style>\n",
       "<table border=\"1\" class=\"dataframe\">\n",
       "  <thead>\n",
       "    <tr style=\"text-align: right;\">\n",
       "      <th></th>\n",
       "      <th>power</th>\n",
       "    </tr>\n",
       "  </thead>\n",
       "  <tbody>\n",
       "    <tr>\n",
       "      <th>count</th>\n",
       "      <td>75138.000000</td>\n",
       "    </tr>\n",
       "    <tr>\n",
       "      <th>mean</th>\n",
       "      <td>0.972902</td>\n",
       "    </tr>\n",
       "    <tr>\n",
       "      <th>std</th>\n",
       "      <td>13.200253</td>\n",
       "    </tr>\n",
       "    <tr>\n",
       "      <th>min</th>\n",
       "      <td>0.000000</td>\n",
       "    </tr>\n",
       "    <tr>\n",
       "      <th>25%</th>\n",
       "      <td>0.000000</td>\n",
       "    </tr>\n",
       "    <tr>\n",
       "      <th>50%</th>\n",
       "      <td>0.000000</td>\n",
       "    </tr>\n",
       "    <tr>\n",
       "      <th>75%</th>\n",
       "      <td>0.000000</td>\n",
       "    </tr>\n",
       "    <tr>\n",
       "      <th>max</th>\n",
       "      <td>1755.090454</td>\n",
       "    </tr>\n",
       "  </tbody>\n",
       "</table>\n",
       "</div>"
      ],
      "text/plain": [
       "              power\n",
       "count  75138.000000\n",
       "mean       0.972902\n",
       "std       13.200253\n",
       "min        0.000000\n",
       "25%        0.000000\n",
       "50%        0.000000\n",
       "75%        0.000000\n",
       "max     1755.090454"
      ]
     },
     "execution_count": 43,
     "metadata": {},
     "output_type": "execute_result"
    }
   ],
   "source": [
    "powers_df_clean = powers_df.drop(index=\"lost\")\n",
    "powers_df_clean.describe()"
   ]
  },
  {
   "cell_type": "markdown",
   "id": "ff258092",
   "metadata": {},
   "source": [
    "# Benchmark"
   ]
  },
  {
   "cell_type": "code",
   "execution_count": null,
   "id": "52811044",
   "metadata": {},
   "outputs": [
    {
     "data": {
      "image/png": "[encoded data removed]",
      "text/plain": [
       "<Figure size 600x400 with 1 Axes>"
      ]
     },
     "metadata": {},
     "output_type": "display_data"
    }
   ],
   "source": [
    "logger, handler = logger_creator.create_logger(\"benchmarking\")\n",
    "\n",
    "# Verify the solutions are equal\n",
    "powers_le, sinks_le = le.resolve_delegations(delegations, nodes)\n",
    "powers_lp, sinks_lp = lp.resolve_delegations(delegations, nodes)\n",
    "powers_iter = iterative.iterate_delegations(delegations, nodes)\n",
    "\n",
    "if powers_le.keys() != powers_lp.keys() or any(abs(powers_le[k] - powers_lp[k]) > 10**-6 for k in powers_le):\n",
    "    logger.error(\"Powers do not match\")\n",
    "    logger.error(f\"LE: {powers_le}\")\n",
    "    logger.error(f\"LP: {powers_lp}\")\n",
    "    print(\"Mismatching powers in LE and LP. Check the log file for details.\")\n",
    "    \n",
    "for node in sinks_le:\n",
    "    if (powers_lp[node] - powers_iter[node] < 0.01):\n",
    "        continue\n",
    "    else: \n",
    "        logger.error(\"Powers do not match\")\n",
    "        logger.error(f\"LP: {powers_lp}\")\n",
    "        logger.error(f\"Iterative: {powers_iter}\")\n",
    "        print(\"Mismatching powers in LP and Iterative. Check the log file for details.\")\n",
    "        break\n",
    "\n",
    "n = 2\n",
    "\n",
    "# LE\n",
    "le_model = le.set_up(delegations, nodes)\n",
    "start_time = time.time()\n",
    "for _ in range(n):\n",
    "    le.solve(*le_model)\n",
    "end_time = time.time()\n",
    "        \n",
    "time_le = (end_time - start_time) / n\n",
    "\n",
    "# LP\n",
    "lp_model = lp.set_up(delegations, nodes)\n",
    "start_time = time.time()\n",
    "for _ in range(n):\n",
    "    lp.solve(*lp_model)\n",
    "end_time = time.time()\n",
    "\n",
    "time_lp = (end_time - start_time) / n\n",
    "\n",
    "# Iterative\n",
    "start_time = time.time()\n",
    "for _ in range(n):\n",
    "    p = iterative.iterate_delegations(delegations, nodes)\n",
    "end_time = time.time()\n",
    "\n",
    "time_iterative = (end_time - start_time) / n\n",
    "\n",
    "\n",
    "logger.removeHandler(handler)\n",
    "handler.close()\n",
    "\n",
    "plt.figure(figsize=(6,4))\n",
    "plt.bar([\"Iterative Solver\", \"LS Solver\", \"LP Solver\"], [time_iterative, time_le, time_lp])\n",
    "plt.ylabel(\"Runtime (s)\")\n",
    "plt.title(\"Algorithm Runtimes on Epinions Graph\")\n",
    "plt.show()"
   ]
  },
  {
   "cell_type": "code",
   "execution_count": 58,
   "id": "def5f28a",
   "metadata": {},
   "outputs": [
    {
     "name": "stdout",
     "output_type": "stream",
     "text": [
      "Time LE: 783.750997543335\n",
      "Time LP: 3711.565323472023\n",
      "Time Iterative: 143.32935547828674\n"
     ]
    }
   ],
   "source": [
    "print(\"Time LE:\", time_le)\n",
    "print(\"Time LP:\", time_lp)\n",
    "print(\"Time Iterative:\", time_iterative)"
   ]
  },
  {
   "cell_type": "code",
   "execution_count": null,
   "id": "a4440427",
   "metadata": {},
   "outputs": [],
   "source": []
  }
 ],
 "metadata": {
  "kernelspec": {
   "display_name": "thesis",
   "language": "python",
   "name": "python3"
  },
  "language_info": {
   "codemirror_mode": {
    "name": "ipython",
    "version": 3
   },
   "file_extension": ".py",
   "mimetype": "text/x-python",
   "name": "python",
   "nbconvert_exporter": "python",
   "pygments_lexer": "ipython3",
   "version": "3.12.9"
  }
 },
 "nbformat": 4,
 "nbformat_minor": 5
}
