{
 "cells": [
  {
   "cell_type": "code",
   "execution_count": 1,
   "id": "713c1d22",
   "metadata": {},
   "outputs": [],
   "source": [
    "import sys, os\n",
    "sys.path.append(os.path.abspath(\"/Users/DavidHolzwarth/Uni/EPFL/bachelors-thesis\"))\n",
    "\n",
    "import time\n",
    "import matplotlib.pyplot as plt\n",
    "\n",
    "import LE as le\n",
    "import LP as lp\n",
    "import iterative as iterative\n",
    "import logger_creator\n",
    "\n",
    "import graph_tools\n",
    "import networkx as nx\n",
    "import numpy as np\n",
    "import pandas as pd"
   ]
  },
  {
   "cell_type": "markdown",
   "id": "b69a3973",
   "metadata": {},
   "source": [
    "# Create and Explore Graph"
   ]
  },
  {
   "cell_type": "code",
   "execution_count": null,
   "id": "a26a363f",
   "metadata": {},
   "outputs": [
    {
     "name": "stdout",
     "output_type": "stream",
     "text": [
      "Number of edges before cleaning: 515397\n",
      "After: 392179\n"
     ]
    }
   ],
   "source": [
    "df = pd.read_csv(\n",
    "    \"../datasets/slashdot_zoo.matrix\",\n",
    "    sep=r\"\\s+\",\n",
    "    comment=\"%\",\n",
    "    header=None,\n",
    "    names=[\"source\", \"target\", \"weight\"]\n",
    ")\n",
    "df_clean = df[df['weight'] > 0]\n",
    "\n",
    "print(\"Number of edges before cleaning:\", len(df))\n",
    "print(\"After:\", len(df_clean))\n",
    "\n",
    "slashdot_zoo_graph = nx.from_pandas_edgelist(\n",
    "    df_clean,\n",
    "    source=\"source\",\n",
    "    target=\"target\",\n",
    "    create_using=nx.DiGraph,\n",
    "    edge_attr=\"weight\",\n",
    ")"
   ]
  },
  {
   "cell_type": "code",
   "execution_count": 4,
   "id": "8bf2719c",
   "metadata": {},
   "outputs": [
    {
     "data": {
      "text/plain": [
       "69995"
      ]
     },
     "execution_count": 4,
     "metadata": {},
     "output_type": "execute_result"
    }
   ],
   "source": [
    "len(slashdot_zoo_graph)"
   ]
  },
  {
   "cell_type": "code",
   "execution_count": 5,
   "id": "cd31f603",
   "metadata": {},
   "outputs": [],
   "source": [
    "slashdot_zoo_graph_prepared = graph_tools.prepare_graph(slashdot_zoo_graph.nodes(), slashdot_zoo_graph.edges(), sink_frac=0.0)\n",
    "nodes = slashdot_zoo_graph_prepared.nodes()\n",
    "delegations_orig = graph_tools.nx_graph_to_dict(slashdot_zoo_graph_prepared)\n",
    "delegations = graph_tools.invert_graph(delegations_orig)"
   ]
  },
  {
   "cell_type": "markdown",
   "id": "88bdf8ee",
   "metadata": {},
   "source": [
    "2025-06-25 10:57:27,781 - INFO - Initially 69995 nodes, after collapsing terminal SCCs 68934 nodes remain. In total 498 terminal SCCs were collapsed.\n"
   ]
  },
  {
   "cell_type": "code",
   "execution_count": 6,
   "id": "b3a0ce2c",
   "metadata": {},
   "outputs": [
    {
     "name": "stdout",
     "output_type": "stream",
     "text": [
      "Average number of nodes per closed delegation cycle: 2.1305220883534135\n"
     ]
    }
   ],
   "source": [
    "removed_nodes = 69995 - 68934\n",
    "amount_of_clos_deg_cycles = 498\n",
    "print(\"Average number of nodes per closed delegation cycle:\", removed_nodes / amount_of_clos_deg_cycles)"
   ]
  },
  {
   "cell_type": "markdown",
   "id": "d9e2cfaf",
   "metadata": {},
   "source": [
    "# Resolve and Explore Powers"
   ]
  },
  {
   "cell_type": "code",
   "execution_count": 7,
   "id": "e1b5b180",
   "metadata": {},
   "outputs": [],
   "source": [
    "powers, sinks = le.resolve_delegations(delegations, nodes)\n"
   ]
  },
  {
   "cell_type": "code",
   "execution_count": 8,
   "id": "eb3bf0de",
   "metadata": {},
   "outputs": [
    {
     "data": {
      "application/vnd.microsoft.datawrangler.viewer.v0+json": {
       "columns": [
        {
         "name": "index",
         "rawType": "object",
         "type": "string"
        },
        {
         "name": "power",
         "rawType": "float64",
         "type": "float"
        }
       ],
       "ref": "bb73f708-35ba-4f74-af5c-f7abcb0cade1",
       "rows": [
        [
         "count",
         "68934.0"
        ],
        [
         "mean",
         "0.9999999999999972"
        ],
        [
         "std",
         "7.163889196361172"
        ],
        [
         "min",
         "0.0"
        ],
        [
         "25%",
         "0.0"
        ],
        [
         "50%",
         "0.0"
        ],
        [
         "75%",
         "1.2211059755077853"
        ],
        [
         "max",
         "971.8220332228238"
        ]
       ],
       "shape": {
        "columns": 1,
        "rows": 8
       }
      },
      "text/html": [
       "<div>\n",
       "<style scoped>\n",
       "    .dataframe tbody tr th:only-of-type {\n",
       "        vertical-align: middle;\n",
       "    }\n",
       "\n",
       "    .dataframe tbody tr th {\n",
       "        vertical-align: top;\n",
       "    }\n",
       "\n",
       "    .dataframe thead th {\n",
       "        text-align: right;\n",
       "    }\n",
       "</style>\n",
       "<table border=\"1\" class=\"dataframe\">\n",
       "  <thead>\n",
       "    <tr style=\"text-align: right;\">\n",
       "      <th></th>\n",
       "      <th>power</th>\n",
       "    </tr>\n",
       "  </thead>\n",
       "  <tbody>\n",
       "    <tr>\n",
       "      <th>count</th>\n",
       "      <td>68934.000000</td>\n",
       "    </tr>\n",
       "    <tr>\n",
       "      <th>mean</th>\n",
       "      <td>1.000000</td>\n",
       "    </tr>\n",
       "    <tr>\n",
       "      <th>std</th>\n",
       "      <td>7.163889</td>\n",
       "    </tr>\n",
       "    <tr>\n",
       "      <th>min</th>\n",
       "      <td>0.000000</td>\n",
       "    </tr>\n",
       "    <tr>\n",
       "      <th>25%</th>\n",
       "      <td>0.000000</td>\n",
       "    </tr>\n",
       "    <tr>\n",
       "      <th>50%</th>\n",
       "      <td>0.000000</td>\n",
       "    </tr>\n",
       "    <tr>\n",
       "      <th>75%</th>\n",
       "      <td>1.221106</td>\n",
       "    </tr>\n",
       "    <tr>\n",
       "      <th>max</th>\n",
       "      <td>971.822033</td>\n",
       "    </tr>\n",
       "  </tbody>\n",
       "</table>\n",
       "</div>"
      ],
      "text/plain": [
       "              power\n",
       "count  68934.000000\n",
       "mean       1.000000\n",
       "std        7.163889\n",
       "min        0.000000\n",
       "25%        0.000000\n",
       "50%        0.000000\n",
       "75%        1.221106\n",
       "max      971.822033"
      ]
     },
     "execution_count": 8,
     "metadata": {},
     "output_type": "execute_result"
    }
   ],
   "source": [
    "powers_df = pd.DataFrame.from_dict(powers, orient=\"index\", columns=[\"power\"])\n",
    "powers_df.describe()"
   ]
  },
  {
   "cell_type": "code",
   "execution_count": 9,
   "id": "216dd445",
   "metadata": {},
   "outputs": [
    {
     "data": {
      "application/vnd.microsoft.datawrangler.viewer.v0+json": {
       "columns": [
        {
         "name": "index",
         "rawType": "object",
         "type": "unknown"
        },
        {
         "name": "power",
         "rawType": "float64",
         "type": "float"
        }
       ],
       "ref": "024438b7-115f-4c75-b807-f5f56262b40d",
       "rows": [
        [
         "107",
         "971.8220332228238"
        ],
        [
         "lost",
         "805.3634801411154"
        ],
        [
         "238",
         "795.6478963733794"
        ],
        [
         "277",
         "432.5207323997625"
        ],
        [
         "2146",
         "374.34836747151473"
        ],
        [
         "227",
         "270.623369308064"
        ],
        [
         "1358",
         "261.7903941975245"
        ],
        [
         "1474",
         "216.68003957840872"
        ],
        [
         "897",
         "204.3052836241225"
        ],
        [
         "1250",
         "198.8100478582914"
        ],
        [
         "2186",
         "197.20242002908174"
        ],
        [
         "109",
         "189.28598598721794"
        ],
        [
         "1900",
         "175.92617548394077"
        ],
        [
         "2190",
         "167.08279567769608"
        ],
        [
         "1028",
         "143.5954117380178"
        ],
        [
         "52523",
         "139.0673982334992"
        ],
        [
         "30831",
         "129.60096167985643"
        ],
        [
         "30832",
         "129.51828153087592"
        ],
        [
         "2470",
         "124.69765650073994"
        ],
        [
         "828",
         "105.52789348241512"
        ],
        [
         "1158",
         "102.38375937121734"
        ],
        [
         "6418",
         "99.7044401796078"
        ],
        [
         "834",
         "96.82579486630391"
        ],
        [
         "176",
         "95.21794115915114"
        ],
        [
         "2778",
         "90.67551163203049"
        ],
        [
         "3266",
         "89.61367818018375"
        ],
        [
         "267",
         "86.25788426154011"
        ],
        [
         "40",
         "86.13716116172405"
        ],
        [
         "1978",
         "84.50955662730756"
        ],
        [
         "474",
         "81.78576523512457"
        ],
        [
         "412",
         "80.85230460203202"
        ],
        [
         "22004",
         "80.32448369868084"
        ],
        [
         "48917",
         "71.77062301708858"
        ],
        [
         "717",
         "70.33698237456804"
        ],
        [
         "10151",
         "70.31874789117612"
        ],
        [
         "2217",
         "68.03285391630111"
        ],
        [
         "3051",
         "67.8793063341944"
        ],
        [
         "1598",
         "65.35672673555358"
        ],
        [
         "28315",
         "65.11741652238248"
        ],
        [
         "1543",
         "65.01921034825145"
        ],
        [
         "24",
         "64.87913370015366"
        ],
        [
         "1232",
         "63.411184825765346"
        ],
        [
         "817",
         "62.59144423587454"
        ],
        [
         "602",
         "61.643955827723246"
        ],
        [
         "331",
         "61.06512696678109"
        ],
        [
         "2",
         "60.49471338861759"
        ],
        [
         "3986",
         "60.34647941171038"
        ],
        [
         "5483",
         "59.88501480028114"
        ],
        [
         "775",
         "59.30976845870899"
        ],
        [
         "812",
         "58.950676328262745"
        ]
       ],
       "shape": {
        "columns": 1,
        "rows": 68934
       }
      },
      "text/html": [
       "<div>\n",
       "<style scoped>\n",
       "    .dataframe tbody tr th:only-of-type {\n",
       "        vertical-align: middle;\n",
       "    }\n",
       "\n",
       "    .dataframe tbody tr th {\n",
       "        vertical-align: top;\n",
       "    }\n",
       "\n",
       "    .dataframe thead th {\n",
       "        text-align: right;\n",
       "    }\n",
       "</style>\n",
       "<table border=\"1\" class=\"dataframe\">\n",
       "  <thead>\n",
       "    <tr style=\"text-align: right;\">\n",
       "      <th></th>\n",
       "      <th>power</th>\n",
       "    </tr>\n",
       "  </thead>\n",
       "  <tbody>\n",
       "    <tr>\n",
       "      <th>107</th>\n",
       "      <td>971.822033</td>\n",
       "    </tr>\n",
       "    <tr>\n",
       "      <th>lost</th>\n",
       "      <td>805.363480</td>\n",
       "    </tr>\n",
       "    <tr>\n",
       "      <th>238</th>\n",
       "      <td>795.647896</td>\n",
       "    </tr>\n",
       "    <tr>\n",
       "      <th>277</th>\n",
       "      <td>432.520732</td>\n",
       "    </tr>\n",
       "    <tr>\n",
       "      <th>2146</th>\n",
       "      <td>374.348367</td>\n",
       "    </tr>\n",
       "    <tr>\n",
       "      <th>...</th>\n",
       "      <td>...</td>\n",
       "    </tr>\n",
       "    <tr>\n",
       "      <th>32267</th>\n",
       "      <td>0.000000</td>\n",
       "    </tr>\n",
       "    <tr>\n",
       "      <th>32269</th>\n",
       "      <td>0.000000</td>\n",
       "    </tr>\n",
       "    <tr>\n",
       "      <th>32270</th>\n",
       "      <td>0.000000</td>\n",
       "    </tr>\n",
       "    <tr>\n",
       "      <th>32272</th>\n",
       "      <td>0.000000</td>\n",
       "    </tr>\n",
       "    <tr>\n",
       "      <th>40736</th>\n",
       "      <td>0.000000</td>\n",
       "    </tr>\n",
       "  </tbody>\n",
       "</table>\n",
       "<p>68934 rows × 1 columns</p>\n",
       "</div>"
      ],
      "text/plain": [
       "            power\n",
       "107    971.822033\n",
       "lost   805.363480\n",
       "238    795.647896\n",
       "277    432.520732\n",
       "2146   374.348367\n",
       "...           ...\n",
       "32267    0.000000\n",
       "32269    0.000000\n",
       "32270    0.000000\n",
       "32272    0.000000\n",
       "40736    0.000000\n",
       "\n",
       "[68934 rows x 1 columns]"
      ]
     },
     "metadata": {},
     "output_type": "display_data"
    }
   ],
   "source": [
    "display(powers_df.sort_values(by=\"power\", ascending=False))"
   ]
  },
  {
   "cell_type": "code",
   "execution_count": null,
   "id": "e4bdf72e",
   "metadata": {},
   "outputs": [],
   "source": [
    "print(\"Number of sinks:\", len(sinks))\n",
    "print(\"Total number of nodes:\", len(nodes))\n",
    "print(\"Fraction of sinks:\", len(sinks) / len(nodes))"
   ]
  },
  {
   "cell_type": "code",
   "execution_count": null,
   "id": "0e42f152",
   "metadata": {},
   "outputs": [],
   "source": [
    "plt.hist(powers_df['power'], bins=50)\n",
    "plt.xlabel('Power')\n",
    "plt.ylabel('Number of Nodes')\n",
    "plt.title('Histogram of Node Powers')\n",
    "plt.yscale('log')\n",
    "plt.show()"
   ]
  },
  {
   "cell_type": "markdown",
   "id": "d1ede210",
   "metadata": {},
   "source": [
    "# Benchmark"
   ]
  },
  {
   "cell_type": "code",
   "execution_count": null,
   "id": "85986ccc",
   "metadata": {},
   "outputs": [],
   "source": [
    "logger, handler = logger_creator.create_logger(\"benchmarking\")\n",
    "\n",
    "# Verify the solutions are equal\n",
    "powers_le, sinks_le = lp.resolve_delegations(delegations, nodes)\n",
    "powers_lp, sinks_lp = lp.resolve_delegations(delegations, nodes)\n",
    "powers_iter = iterative.iterate_delegations(delegations, nodes)\n",
    "\n",
    "if powers_le != powers_lp:\n",
    "    logger.error(\"Powers do not match\")\n",
    "    logger.error(f\"LE: {powers_le}\")\n",
    "    logger.error(f\"LP: {powers_lp}\")\n",
    "    print(\"Mismatching powers in LE and LP. Check the log file for details.\")\n",
    "    \n",
    "for node in sinks_le:\n",
    "    if (powers_lp[node] - powers_iter[node] < 0.01):\n",
    "        continue\n",
    "    else: \n",
    "        logger.error(\"Powers do not match\")\n",
    "        logger.error(f\"LP: {powers_lp}\")\n",
    "        logger.error(f\"Iterative: {powers_iter}\")\n",
    "        print(\"Mismatching powers in LP and Iterative. Check the log file for details.\")\n",
    "        break\n",
    "\n",
    "n = 2\n",
    "\n",
    "# LE\n",
    "le_model = le.set_up(delegations, nodes)\n",
    "start_time = time.time()\n",
    "for _ in range(n):\n",
    "    le.solve(*le_model)\n",
    "end_time = time.time()\n",
    "        \n",
    "time_le = (end_time - start_time) / n\n",
    "\n",
    "# LP\n",
    "lp_model = lp.set_up(delegations, nodes)\n",
    "start_time = time.time()\n",
    "for _ in range(n):\n",
    "    lp.solve(*lp_model)\n",
    "end_time = time.time()\n",
    "\n",
    "time_lp = (end_time - start_time) / n\n",
    "\n",
    "# Iterative\n",
    "start_time = time.time()\n",
    "for _ in range(n):\n",
    "    p = iterative.iterate_delegations(delegations, nodes)\n",
    "end_time = time.time()\n",
    "\n",
    "time_iterative = (end_time - start_time) / n\n",
    "\n",
    "\n",
    "logger.removeHandler(handler)\n",
    "handler.close()\n",
    "\n",
    "plt.figure(figsize=(6,4))\n",
    "plt.bar([\"Iterative Solver\", \"LS Solver\", \"LP Solver\"], [time_iterative, time_le, time_lp])\n",
    "plt.ylabel(\"Runtime (s)\")\n",
    "plt.title(\"Algorithm Runtimes on Slashdot Zoo Graph\")\n",
    "plt.show()"
   ]
  }
 ],
 "metadata": {
  "kernelspec": {
   "display_name": "thesis",
   "language": "python",
   "name": "python3"
  },
  "language_info": {
   "codemirror_mode": {
    "name": "ipython",
    "version": 3
   },
   "file_extension": ".py",
   "mimetype": "text/x-python",
   "name": "python",
   "nbconvert_exporter": "python",
   "pygments_lexer": "ipython3",
   "version": "3.12.9"
  }
 },
 "nbformat": 4,
 "nbformat_minor": 5
}
