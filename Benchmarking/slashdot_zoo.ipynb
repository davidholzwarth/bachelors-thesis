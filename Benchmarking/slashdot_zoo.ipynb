{
 "cells": [
  {
   "cell_type": "code",
   "execution_count": 22,
   "id": "713c1d22",
   "metadata": {},
   "outputs": [],
   "source": [
    "import sys, os\n",
    "sys.path.append(os.path.abspath(\"/Users/DavidHolzwarth/Uni/EPFL/bachelors-thesis\"))\n",
    "\n",
    "import time\n",
    "import matplotlib.pyplot as plt\n",
    "\n",
    "import LE as le\n",
    "import LP as lp\n",
    "import iterative as iterative\n",
    "import logger_creator\n",
    "\n",
    "import graph_tools\n",
    "import networkx as nx\n",
    "import numpy as np\n",
    "import pandas as pd"
   ]
  },
  {
   "cell_type": "markdown",
   "id": "b69a3973",
   "metadata": {},
   "source": [
    "# Create and Explore Graph"
   ]
  },
  {
   "cell_type": "code",
   "execution_count": 23,
   "id": "a26a363f",
   "metadata": {},
   "outputs": [
    {
     "name": "stdout",
     "output_type": "stream",
     "text": [
      "Number of edges before cleaning: 515397\n",
      "After: 392179\n"
     ]
    }
   ],
   "source": [
    "df = pd.read_csv(\n",
    "    \"../datasets/slashdot_zoo.matrix\",\n",
    "    sep=r\"\\s+\",\n",
    "    comment=\"%\",\n",
    "    header=None,\n",
    "    names=[\"source\", \"target\", \"weight\"]\n",
    ")\n",
    "df_clean = df[df['weight'] > 0]\n",
    "\n",
    "print(\"Number of edges before cleaning:\", len(df))\n",
    "print(\"After:\", len(df_clean))\n",
    "\n",
    "slashdot_zoo_graph = nx.from_pandas_edgelist(\n",
    "    df_clean,\n",
    "    source=\"source\",\n",
    "    target=\"target\",\n",
    "    create_using=nx.DiGraph,\n",
    "    edge_attr=\"weight\",\n",
    ")"
   ]
  },
  {
   "cell_type": "code",
   "execution_count": 24,
   "id": "8bf2719c",
   "metadata": {},
   "outputs": [
    {
     "data": {
      "text/plain": [
       "69995"
      ]
     },
     "execution_count": 24,
     "metadata": {},
     "output_type": "execute_result"
    }
   ],
   "source": [
    "len(slashdot_zoo_graph)"
   ]
  },
  {
   "cell_type": "code",
   "execution_count": 9,
   "id": "cd31f603",
   "metadata": {},
   "outputs": [],
   "source": [
    "slashdot_zoo_graph_prepared = graph_tools.prepare_graph(slashdot_zoo_graph.nodes(), slashdot_zoo_graph.edges(), sink_frac=0.0)\n",
    "nodes = slashdot_zoo_graph_prepared.nodes()\n",
    "delegations_orig = graph_tools.nx_graph_to_dict(slashdot_zoo_graph_prepared)\n",
    "delegations = graph_tools.invert_graph(delegations_orig)"
   ]
  },
  {
   "cell_type": "markdown",
   "id": "88bdf8ee",
   "metadata": {},
   "source": [
    "2025-06-25 10:57:27,781 - INFO - Initially 69995 nodes, after collapsing terminal SCCs 68934 nodes remain. In total 498 terminal SCCs were collapsed.\n"
   ]
  },
  {
   "cell_type": "code",
   "execution_count": 28,
   "id": "b3a0ce2c",
   "metadata": {},
   "outputs": [
    {
     "name": "stdout",
     "output_type": "stream",
     "text": [
      "Number of removed nodes: 1061\n",
      "Average number of nodes per closed delegation cycle: 2.1305220883534135\n"
     ]
    }
   ],
   "source": [
    "removed_nodes = 69995 - 68934\n",
    "amount_of_clos_deg_cycles = 498\n",
    "print(\"Number of removed nodes:\", removed_nodes)\n",
    "print(\"Average number of nodes per closed delegation cycle:\", removed_nodes / amount_of_clos_deg_cycles)"
   ]
  },
  {
   "cell_type": "code",
   "execution_count": 26,
   "id": "4a8124d4",
   "metadata": {},
   "outputs": [
    {
     "name": "stdout",
     "output_type": "stream",
     "text": [
      "Number of nodes:  68934\n",
      "Outdegree:\n"
     ]
    },
    {
     "data": {
      "application/vnd.microsoft.datawrangler.viewer.v0+json": {
       "columns": [
        {
         "name": "index",
         "rawType": "object",
         "type": "string"
        },
        {
         "name": "outdegree",
         "rawType": "float64",
         "type": "float"
        }
       ],
       "ref": "7cbd60c0-47b2-40c8-9854-2a40238ab48b",
       "rows": [
        [
         "count",
         "68934.0"
        ],
        [
         "mean",
         "5.663025502654714"
        ],
        [
         "std",
         "19.45353993861345"
        ],
        [
         "min",
         "0.0"
        ],
        [
         "25%",
         "0.0"
        ],
        [
         "50%",
         "1.0"
        ],
        [
         "75%",
         "3.0"
        ],
        [
         "max",
         "424.0"
        ]
       ],
       "shape": {
        "columns": 1,
        "rows": 8
       }
      },
      "text/plain": [
       "count    68934.000000\n",
       "mean         5.663026\n",
       "std         19.453540\n",
       "min          0.000000\n",
       "25%          0.000000\n",
       "50%          1.000000\n",
       "75%          3.000000\n",
       "max        424.000000\n",
       "Name: outdegree, dtype: float64"
      ]
     },
     "metadata": {},
     "output_type": "display_data"
    },
    {
     "data": {
      "image/png": "[encoded data removed]",
      "text/plain": [
       "<Figure size 640x480 with 1 Axes>"
      ]
     },
     "metadata": {},
     "output_type": "display_data"
    }
   ],
   "source": [
    "print(\"Number of nodes: \", len(slashdot_zoo_graph_prepared))\n",
    "\n",
    "outdegrees = pd.DataFrame(slashdot_zoo_graph_prepared.out_degree(), columns=[\"node\", \"outdegree\"])\n",
    "print(\"Outdegree:\")\n",
    "display(outdegrees['outdegree'].describe())\n",
    "\n",
    "plt.figure()\n",
    "plt.hist(outdegrees['outdegree'], bins=50)\n",
    "plt.xlabel('Outdegree')\n",
    "plt.ylabel('Log(Number of Nodes)')\n",
    "plt.title('Distribution of Outdegrees')\n",
    "plt.yscale('log')\n",
    "plt.xlim(0, outdegrees['outdegree'].max() * 1.1) \n",
    "plt.show()"
   ]
  },
  {
   "cell_type": "code",
   "execution_count": 27,
   "id": "acf2c8f8",
   "metadata": {},
   "outputs": [
    {
     "name": "stdout",
     "output_type": "stream",
     "text": [
      "Number of sinks: 28709\n",
      "Total number of nodes: 68934\n",
      "Fraction of sinks: 0.41647082716801576\n"
     ]
    }
   ],
   "source": [
    "sinks = [node for node in nodes if len(delegations_orig[node]) == 0]\n",
    "print(\"Number of sinks:\", len(sinks))\n",
    "print(\"Total number of nodes:\", len(nodes))\n",
    "print(\"Fraction of sinks:\", len(sinks) / len(nodes))"
   ]
  },
  {
   "cell_type": "markdown",
   "id": "d9e2cfaf",
   "metadata": {},
   "source": [
    "# Resolve and Explore Powers"
   ]
  },
  {
   "cell_type": "code",
   "execution_count": null,
   "id": "e1b5b180",
   "metadata": {},
   "outputs": [],
   "source": [
    "powers, sinks = le.resolve_delegations(delegations, nodes)\n"
   ]
  },
  {
   "cell_type": "code",
   "execution_count": null,
   "id": "eb3bf0de",
   "metadata": {},
   "outputs": [],
   "source": [
    "powers_df = pd.DataFrame.from_dict(powers, orient=\"index\", columns=[\"power\"])\n",
    "powers_df.describe()"
   ]
  },
  {
   "cell_type": "code",
   "execution_count": null,
   "id": "216dd445",
   "metadata": {},
   "outputs": [],
   "source": [
    "display(powers_df.sort_values(by=\"power\", ascending=False))"
   ]
  },
  {
   "cell_type": "code",
   "execution_count": null,
   "id": "e4bdf72e",
   "metadata": {},
   "outputs": [],
   "source": [
    "print(\"Number of sinks:\", len(sinks))\n",
    "print(\"Total number of nodes:\", len(nodes))\n",
    "print(\"Fraction of sinks:\", len(sinks) / len(nodes))"
   ]
  },
  {
   "cell_type": "code",
   "execution_count": null,
   "id": "0e42f152",
   "metadata": {},
   "outputs": [],
   "source": [
    "plt.hist(powers_df['power'], bins=50)\n",
    "plt.xlabel('Power')\n",
    "plt.ylabel('Number of Nodes')\n",
    "plt.title('Histogram of Node Powers')\n",
    "plt.yscale('log')\n",
    "plt.show()"
   ]
  },
  {
   "cell_type": "markdown",
   "id": "d1ede210",
   "metadata": {},
   "source": [
    "# Benchmark"
   ]
  },
  {
   "cell_type": "code",
   "execution_count": 19,
   "id": "85986ccc",
   "metadata": {},
   "outputs": [
    {
     "name": "stdout",
     "output_type": "stream",
     "text": [
      "All powers match within tolerance.\n"
     ]
    }
   ],
   "source": [
    "logger, handler = logger_creator.create_logger(\"benchmarking\")\n",
    "\n",
    "# Verify the solutions are equal\n",
    "powers_le, sinks_le = le.resolve_delegations(delegations, nodes)\n",
    "powers_lp, sinks_lp = lp.resolve_delegations(delegations, nodes)\n",
    "powers_iter = iterative.iterate_delegations(delegations, nodes)\n",
    "\n",
    "if powers_le.keys() != powers_lp.keys():\n",
    "    logger.error(\"Key mismatch between LE and LP powers.\")\n",
    "    print(\"Mismatching powers in LE and LP. Check the log file for details.\")\n",
    "else:\n",
    "    mismatches = []\n",
    "    for k in powers_le:\n",
    "        diff = abs(powers_le[k] - powers_lp[k])\n",
    "        if diff > 10**4:\n",
    "            mismatches.append((k, powers_le[k], powers_lp[k], diff))\n",
    "    \n",
    "    if mismatches:\n",
    "        logger.error(\"Power values do not match between LE and LP.\")\n",
    "        for k, le_power, lp_power, diff in mismatches:\n",
    "            logger.error(f\"Node {k}: LE={le_power:.6f}, LP={lp_power:.6f}, Diff={diff:.6f}\")\n",
    "        print(\"Mismatching powers in LE and LP. Check the log file for details.\")\n",
    "    \n",
    "mismatches = []\n",
    "for node in nodes:\n",
    "    diff = abs(powers_lp[node] - powers_iter[node])\n",
    "    if diff >= 0.01:\n",
    "        mismatches.append((node, powers_lp[node], powers_iter[node], diff))\n",
    "\n",
    "if mismatches:\n",
    "    logger.error(\"Powers do not match.\")\n",
    "    for node, lp_power, iter_power, diff in mismatches:\n",
    "        logger.error(f\"Node {node}: LP={lp_power:.4f}, Iterative={iter_power:.4f}, Diff={diff:.4f}\")\n",
    "    print(\"Mismatching powers in LP and Iterative. Check the log file for details.\")\n",
    "else:\n",
    "    print(\"All powers match within tolerance.\")\n",
    "\n",
    "n = 2\n",
    "\n",
    "# LE\n",
    "le_model = le.set_up(delegations, nodes)\n",
    "start_time = time.time()\n",
    "for _ in range(n):\n",
    "    le.solve(*le_model)\n",
    "end_time = time.time()\n",
    "        \n",
    "time_le = (end_time - start_time) / n\n",
    "\n",
    "# LP\n",
    "lp_model = lp.set_up(delegations, nodes)\n",
    "start_time = time.time()\n",
    "for _ in range(n):\n",
    "    lp.solve(*lp_model)\n",
    "end_time = time.time()\n",
    "\n",
    "time_lp = (end_time - start_time) / n\n",
    "\n",
    "# Iterative\n",
    "start_time = time.time()\n",
    "for _ in range(n):\n",
    "    p = iterative.iterate_delegations(delegations, nodes)\n",
    "end_time = time.time()\n",
    "\n",
    "time_iterative = (end_time - start_time) / n\n",
    "\n",
    "\n",
    "logger.removeHandler(handler)\n",
    "handler.close()\n"
   ]
  },
  {
   "cell_type": "code",
   "execution_count": 21,
   "id": "2c5a16ca",
   "metadata": {},
   "outputs": [
    {
     "name": "stdout",
     "output_type": "stream",
     "text": [
      "Time LE: 246.70037293434143\n",
      "Time LP: 380.31449699401855\n",
      "Time Iterative: 26.939793586730957\n"
     ]
    }
   ],
   "source": [
    "print(\"Time LE:\", time_le)\n",
    "print(\"Time LP:\", time_lp)\n",
    "print(\"Time Iterative:\", time_iterative)"
   ]
  },
  {
   "cell_type": "code",
   "execution_count": 20,
   "id": "5d17f888",
   "metadata": {},
   "outputs": [
    {
     "data": {
      "image/png": "[encoded data removed]",
      "text/plain": [
       "<Figure size 600x400 with 1 Axes>"
      ]
     },
     "metadata": {},
     "output_type": "display_data"
    }
   ],
   "source": [
    "plt.figure(figsize=(6,4))\n",
    "plt.bar([\"Iterative Solver\", \"LS Solver\", \"LP Solver\"], [time_iterative, time_le, time_lp])\n",
    "plt.ylabel(\"Runtime (s)\")\n",
    "plt.title(\"Algorithm Runtimes on Slashdot Zoo Graph\")\n",
    "plt.show()"
   ]
  },
  {
   "cell_type": "code",
   "execution_count": null,
   "id": "522eb7bc",
   "metadata": {},
   "outputs": [],
   "source": []
  }
 ],
 "metadata": {
  "kernelspec": {
   "display_name": "thesis",
   "language": "python",
   "name": "python3"
  },
  "language_info": {
   "codemirror_mode": {
    "name": "ipython",
    "version": 3
   },
   "file_extension": ".py",
   "mimetype": "text/x-python",
   "name": "python",
   "nbconvert_exporter": "python",
   "pygments_lexer": "ipython3",
   "version": "3.12.9"
  }
 },
 "nbformat": 4,
 "nbformat_minor": 5
}
