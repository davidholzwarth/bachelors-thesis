{
 "cells": [
  {
   "cell_type": "code",
   "execution_count": 1,
   "id": "78b89e24",
   "metadata": {},
   "outputs": [],
   "source": [
    "import sys, os\n",
    "sys.path.append(os.path.abspath(\"/Users/DavidHolzwarth/Uni/EPFL/bachelors-thesis\"))\n",
    "\n",
    "import time\n",
    "import matplotlib.pyplot as plt\n",
    "\n",
    "import LE as le\n",
    "import LP as lp\n",
    "import iterative as iterative\n",
    "import logger_creator\n",
    "\n",
    "import graph_tools\n",
    "import networkx as nx\n",
    "import numpy as np\n",
    "import pandas as pd"
   ]
  },
  {
   "cell_type": "markdown",
   "id": "fb239037",
   "metadata": {},
   "source": [
    "# Create and Explore Graph"
   ]
  },
  {
   "cell_type": "code",
   "execution_count": null,
   "id": "000c72ab",
   "metadata": {},
   "outputs": [
    {
     "name": "stdout",
     "output_type": "stream",
     "text": [
      "Number of edges before cleaning: 35592\n",
      "After: 32029\n"
     ]
    }
   ],
   "source": [
    "df = pd.read_csv(\n",
    "    \"../datasets/soc-sign-bitcoinotc.csv\", \n",
    "    names = [\"source\", \"target\", \"rating\", \"timestamp\"], \n",
    "    usecols=[\"source\", \"target\", \"rating\"]\n",
    "    )\n",
    "\n",
    "df_clean = df[df['rating'] > 0]\n",
    "\n",
    "print(\"Number of edges before cleaning:\", len(df))\n",
    "print(\"After:\", len(df_clean))\n",
    "\n",
    "bitcoin_otc_trust_graph = nx.from_pandas_edgelist(\n",
    "    df_clean,\n",
    "    source=\"source\",\n",
    "    target=\"target\",\n",
    "    create_using=nx.DiGraph,\n",
    "    edge_attr=\"rating\",\n",
    ")\n"
   ]
  },
  {
   "cell_type": "code",
   "execution_count": 73,
   "id": "18d98d6d",
   "metadata": {},
   "outputs": [
    {
     "name": "stdout",
     "output_type": "stream",
     "text": [
      "Number of nodes:  5573\n",
      "Outdegree:\n"
     ]
    },
    {
     "data": {
      "application/vnd.microsoft.datawrangler.viewer.v0+json": {
       "columns": [
        {
         "name": "index",
         "rawType": "object",
         "type": "string"
        },
        {
         "name": "outdegree",
         "rawType": "float64",
         "type": "float"
        }
       ],
       "ref": "1433c9fe-e0c9-43a4-9fab-fa414eeb19db",
       "rows": [
        [
         "count",
         "5573.0"
        ],
        [
         "mean",
         "5.7471738740355285"
        ],
        [
         "std",
         "19.023074966724273"
        ],
        [
         "min",
         "0.0"
        ],
        [
         "25%",
         "1.0"
        ],
        [
         "50%",
         "2.0"
        ],
        [
         "75%",
         "4.0"
        ],
        [
         "max",
         "753.0"
        ]
       ],
       "shape": {
        "columns": 1,
        "rows": 8
       }
      },
      "text/plain": [
       "count    5573.000000\n",
       "mean        5.747174\n",
       "std        19.023075\n",
       "min         0.000000\n",
       "25%         1.000000\n",
       "50%         2.000000\n",
       "75%         4.000000\n",
       "max       753.000000\n",
       "Name: outdegree, dtype: float64"
      ]
     },
     "metadata": {},
     "output_type": "display_data"
    },
    {
     "data": {
      "image/png": "[encoded data removed]",
      "text/plain": [
       "<Figure size 640x480 with 1 Axes>"
      ]
     },
     "metadata": {},
     "output_type": "display_data"
    }
   ],
   "source": [
    "print(\"Number of nodes: \", len(bitcoin_otc_trust_graph))\n",
    "\n",
    "outdegrees = pd.DataFrame(bitcoin_otc_trust_graph.out_degree(), columns=[\"node\", \"outdegree\"])\n",
    "print(\"Outdegree:\")\n",
    "display(outdegrees['outdegree'].describe())\n",
    "\n",
    "plt.figure()\n",
    "plt.hist(outdegrees['outdegree'], bins=50)\n",
    "plt.xlabel('Outdegree')\n",
    "plt.ylabel('Number of Nodes')\n",
    "plt.title('Distribution of Outdegrees')\n",
    "plt.yscale('log')\n",
    "plt.xlim(0, outdegrees['outdegree'].max() * 1.1) \n",
    "plt.show()"
   ]
  },
  {
   "cell_type": "code",
   "execution_count": 58,
   "id": "3a340de5",
   "metadata": {},
   "outputs": [],
   "source": [
    "bitcoin_otc_trust_graph_prepared = None\n",
    "bitcoin_otc_trust_graph_prepared = graph_tools.prepare_graph(bitcoin_otc_trust_graph.nodes(), bitcoin_otc_trust_graph.edges(), sink_frac=0.0)\n",
    "bitcoin_otc_trust_graph_prepared = graph_tools.nx_graph_nodes_to_str(bitcoin_otc_trust_graph_prepared)\n",
    "nodes = bitcoin_otc_trust_graph_prepared.nodes()\n",
    "delegations_orig = graph_tools.nx_graph_to_dict(bitcoin_otc_trust_graph_prepared)\n",
    "delegations = graph_tools.invert_graph(delegations_orig)"
   ]
  },
  {
   "cell_type": "code",
   "execution_count": 69,
   "id": "92ed09f2",
   "metadata": {},
   "outputs": [
    {
     "name": "stdout",
     "output_type": "stream",
     "text": [
      "Number of sinks: 806\n",
      "Total number of nodes: 5530\n",
      "Fraction of sinks: 0.145750452079566\n"
     ]
    }
   ],
   "source": [
    "# Number of sinks vs total number of nodes\n",
    "sinks = [node for node in nodes if len(delegations_orig[node]) == 0]\n",
    "print(\"Number of sinks:\", len(sinks))\n",
    "print(\"Total number of nodes:\", len(nodes))\n",
    "print(\"Fraction of sinks:\", len(sinks) / len(nodes))"
   ]
  },
  {
   "cell_type": "markdown",
   "id": "37a83b25",
   "metadata": {},
   "source": [
    "2025-06-24 15:24:09,912 - INFO - Initially 5573 nodes, after collapsing terminal SCCs 5530 nodes remain. In total 18 terminal SCCs were collapsed."
   ]
  },
  {
   "cell_type": "code",
   "execution_count": 70,
   "id": "89dd9979",
   "metadata": {},
   "outputs": [
    {
     "name": "stdout",
     "output_type": "stream",
     "text": [
      "Amount of removed edges 43\n",
      "Fraction of removed nodes: 0.007775768535262206\n",
      "Average number of nodes per closed delegation cycle: 2.388888888888889\n"
     ]
    }
   ],
   "source": [
    "removed_nodes = 5573 - 5530\n",
    "amount_of_clos_deg_cycles = 18\n",
    "print(\"Amount of removed edges\", removed_nodes)\n",
    "print(\"Fraction of removed nodes:\", removed_nodes / len(nodes))\n",
    "print(\"Average number of nodes per closed delegation cycle:\", removed_nodes / amount_of_clos_deg_cycles)"
   ]
  },
  {
   "cell_type": "markdown",
   "id": "e2867a3e",
   "metadata": {},
   "source": [
    "# Explore powers"
   ]
  },
  {
   "cell_type": "code",
   "execution_count": 59,
   "id": "d40e97b7",
   "metadata": {},
   "outputs": [],
   "source": [
    "powers, sinks = le.resolve_delegations(delegations, nodes)"
   ]
  },
  {
   "cell_type": "code",
   "execution_count": 60,
   "id": "d277ec08",
   "metadata": {},
   "outputs": [
    {
     "data": {
      "application/vnd.microsoft.datawrangler.viewer.v0+json": {
       "columns": [
        {
         "name": "index",
         "rawType": "object",
         "type": "string"
        },
        {
         "name": "power",
         "rawType": "float64",
         "type": "float"
        }
       ],
       "ref": "863d2a1c-c356-4767-a341-4ff2e1d15d86",
       "rows": [
        [
         "count",
         "5530.0"
        ],
        [
         "mean",
         "0.999999999999998"
        ],
        [
         "std",
         "8.29381440780643"
        ],
        [
         "min",
         "0.0"
        ],
        [
         "25%",
         "0.0"
        ],
        [
         "50%",
         "0.0"
        ],
        [
         "75%",
         "0.0"
        ],
        [
         "max",
         "410.79216327631656"
        ]
       ],
       "shape": {
        "columns": 1,
        "rows": 8
       }
      },
      "text/html": [
       "<div>\n",
       "<style scoped>\n",
       "    .dataframe tbody tr th:only-of-type {\n",
       "        vertical-align: middle;\n",
       "    }\n",
       "\n",
       "    .dataframe tbody tr th {\n",
       "        vertical-align: top;\n",
       "    }\n",
       "\n",
       "    .dataframe thead th {\n",
       "        text-align: right;\n",
       "    }\n",
       "</style>\n",
       "<table border=\"1\" class=\"dataframe\">\n",
       "  <thead>\n",
       "    <tr style=\"text-align: right;\">\n",
       "      <th></th>\n",
       "      <th>power</th>\n",
       "    </tr>\n",
       "  </thead>\n",
       "  <tbody>\n",
       "    <tr>\n",
       "      <th>count</th>\n",
       "      <td>5530.000000</td>\n",
       "    </tr>\n",
       "    <tr>\n",
       "      <th>mean</th>\n",
       "      <td>1.000000</td>\n",
       "    </tr>\n",
       "    <tr>\n",
       "      <th>std</th>\n",
       "      <td>8.293814</td>\n",
       "    </tr>\n",
       "    <tr>\n",
       "      <th>min</th>\n",
       "      <td>0.000000</td>\n",
       "    </tr>\n",
       "    <tr>\n",
       "      <th>25%</th>\n",
       "      <td>0.000000</td>\n",
       "    </tr>\n",
       "    <tr>\n",
       "      <th>50%</th>\n",
       "      <td>0.000000</td>\n",
       "    </tr>\n",
       "    <tr>\n",
       "      <th>75%</th>\n",
       "      <td>0.000000</td>\n",
       "    </tr>\n",
       "    <tr>\n",
       "      <th>max</th>\n",
       "      <td>410.792163</td>\n",
       "    </tr>\n",
       "  </tbody>\n",
       "</table>\n",
       "</div>"
      ],
      "text/plain": [
       "             power\n",
       "count  5530.000000\n",
       "mean      1.000000\n",
       "std       8.293814\n",
       "min       0.000000\n",
       "25%       0.000000\n",
       "50%       0.000000\n",
       "75%       0.000000\n",
       "max     410.792163"
      ]
     },
     "execution_count": 60,
     "metadata": {},
     "output_type": "execute_result"
    }
   ],
   "source": [
    "powers_df = pd.DataFrame.from_dict(powers, orient=\"index\", columns=[\"power\"])\n",
    "powers_df.describe()"
   ]
  },
  {
   "cell_type": "code",
   "execution_count": 71,
   "id": "21bfa5b1",
   "metadata": {},
   "outputs": [
    {
     "name": "stdout",
     "output_type": "stream",
     "text": [
      "Total lost power: power    111.212747\n",
      "Name: lost, dtype: float64\n",
      "Fraction of lost power: power    0.020111\n",
      "Name: lost, dtype: float64\n"
     ]
    }
   ],
   "source": [
    "lost_power = powers_df.loc[\"lost\"] + removed_nodes\n",
    "print(\"Total lost power:\", lost_power)\n",
    "print(\"Fraction of lost power:\", lost_power / len(nodes))"
   ]
  },
  {
   "cell_type": "code",
   "execution_count": 61,
   "id": "d8f9eae7",
   "metadata": {},
   "outputs": [
    {
     "data": {
      "application/vnd.microsoft.datawrangler.viewer.v0+json": {
       "columns": [
        {
         "name": "index",
         "rawType": "object",
         "type": "string"
        },
        {
         "name": "power",
         "rawType": "float64",
         "type": "float"
        }
       ],
       "ref": "406e9645-e9ba-4aca-84b4-292fc0e8255b",
       "rows": [
        [
         "25",
         "410.79216327631656"
        ],
        [
         "2198",
         "390.65891194139226"
        ],
        [
         "5775",
         "92.07764119157304"
        ],
        [
         "2455",
         "75.26420572660811"
        ],
        [
         "lost",
         "68.21274733255171"
        ],
        [
         "3",
         "57.02659676523934"
        ],
        [
         "223",
         "52.89146081690013"
        ],
        [
         "20",
         "49.94207427718671"
        ],
        [
         "2498",
         "44.22384148081124"
        ],
        [
         "4179",
         "34.669965562105936"
        ],
        [
         "896",
         "32.182521411908645"
        ],
        [
         "5845",
         "32.068035468859414"
        ],
        [
         "4211",
         "27.708292651669108"
        ],
        [
         "3971",
         "26.279661648995713"
        ],
        [
         "2164",
         "24.058004475339217"
        ],
        [
         "5799",
         "21.79728864276339"
        ],
        [
         "5005",
         "21.705342426536564"
        ],
        [
         "1554",
         "21.440655577522712"
        ],
        [
         "103",
         "19.93287166190931"
        ],
        [
         "822",
         "19.87108240149447"
        ],
        [
         "730",
         "19.495747659722692"
        ],
        [
         "3872",
         "18.84279040054877"
        ],
        [
         "834",
         "18.74140463169951"
        ],
        [
         "1737",
         "18.730554976451902"
        ],
        [
         "2181",
         "18.54035196948726"
        ],
        [
         "3513",
         "18.057488459847036"
        ],
        [
         "669",
         "17.618894632917527"
        ],
        [
         "3357",
         "17.08546706400321"
        ],
        [
         "4707",
         "16.949961291423328"
        ],
        [
         "1518",
         "16.497193123668513"
        ],
        [
         "1772",
         "16.250393399986923"
        ],
        [
         "5749",
         "15.81618325364314"
        ],
        [
         "197",
         "15.573049302038044"
        ],
        [
         "5299",
         "15.319438212259907"
        ],
        [
         "1475",
         "15.042322031441396"
        ],
        [
         "1877",
         "14.73490970897866"
        ],
        [
         "5693",
         "14.71277296200354"
        ],
        [
         "3552",
         "14.666666666666666"
        ],
        [
         "4135",
         "14.340505402268176"
        ],
        [
         "645",
         "14.308374059129708"
        ],
        [
         "4733",
         "14.19425516209442"
        ],
        [
         "5516",
         "13.557437504877289"
        ],
        [
         "1827",
         "13.458295023517763"
        ],
        [
         "4356",
         "13.39638864251942"
        ],
        [
         "2259",
         "13.372616948898386"
        ],
        [
         "260",
         "13.02891005040261"
        ],
        [
         "487",
         "12.902463076041663"
        ],
        [
         "4855",
         "12.558259031698064"
        ],
        [
         "407",
         "12.538824105292093"
        ],
        [
         "551",
         "12.401119023061812"
        ]
       ],
       "shape": {
        "columns": 1,
        "rows": 5530
       }
      },
      "text/html": [
       "<div>\n",
       "<style scoped>\n",
       "    .dataframe tbody tr th:only-of-type {\n",
       "        vertical-align: middle;\n",
       "    }\n",
       "\n",
       "    .dataframe tbody tr th {\n",
       "        vertical-align: top;\n",
       "    }\n",
       "\n",
       "    .dataframe thead th {\n",
       "        text-align: right;\n",
       "    }\n",
       "</style>\n",
       "<table border=\"1\" class=\"dataframe\">\n",
       "  <thead>\n",
       "    <tr style=\"text-align: right;\">\n",
       "      <th></th>\n",
       "      <th>power</th>\n",
       "    </tr>\n",
       "  </thead>\n",
       "  <tbody>\n",
       "    <tr>\n",
       "      <th>25</th>\n",
       "      <td>410.792163</td>\n",
       "    </tr>\n",
       "    <tr>\n",
       "      <th>2198</th>\n",
       "      <td>390.658912</td>\n",
       "    </tr>\n",
       "    <tr>\n",
       "      <th>5775</th>\n",
       "      <td>92.077641</td>\n",
       "    </tr>\n",
       "    <tr>\n",
       "      <th>2455</th>\n",
       "      <td>75.264206</td>\n",
       "    </tr>\n",
       "    <tr>\n",
       "      <th>lost</th>\n",
       "      <td>68.212747</td>\n",
       "    </tr>\n",
       "    <tr>\n",
       "      <th>...</th>\n",
       "      <td>...</td>\n",
       "    </tr>\n",
       "    <tr>\n",
       "      <th>2185</th>\n",
       "      <td>0.000000</td>\n",
       "    </tr>\n",
       "    <tr>\n",
       "      <th>2184</th>\n",
       "      <td>0.000000</td>\n",
       "    </tr>\n",
       "    <tr>\n",
       "      <th>2176</th>\n",
       "      <td>0.000000</td>\n",
       "    </tr>\n",
       "    <tr>\n",
       "      <th>2182</th>\n",
       "      <td>0.000000</td>\n",
       "    </tr>\n",
       "    <tr>\n",
       "      <th>6</th>\n",
       "      <td>0.000000</td>\n",
       "    </tr>\n",
       "  </tbody>\n",
       "</table>\n",
       "<p>5530 rows × 1 columns</p>\n",
       "</div>"
      ],
      "text/plain": [
       "           power\n",
       "25    410.792163\n",
       "2198  390.658912\n",
       "5775   92.077641\n",
       "2455   75.264206\n",
       "lost   68.212747\n",
       "...          ...\n",
       "2185    0.000000\n",
       "2184    0.000000\n",
       "2176    0.000000\n",
       "2182    0.000000\n",
       "6       0.000000\n",
       "\n",
       "[5530 rows x 1 columns]"
      ]
     },
     "metadata": {},
     "output_type": "display_data"
    }
   ],
   "source": [
    "display(powers_df.sort_values(by=\"power\", ascending=False))\n"
   ]
  },
  {
   "cell_type": "code",
   "execution_count": 62,
   "id": "ae6a979e",
   "metadata": {},
   "outputs": [
    {
     "name": "stdout",
     "output_type": "stream",
     "text": [
      "Number of sinks: 806\n",
      "Total number of nodes: 5530\n",
      "Fraction of sinks: 0.145750452079566\n"
     ]
    }
   ],
   "source": [
    "print(\"Number of sinks:\", len(sinks))\n",
    "print(\"Total number of nodes:\", len(nodes))\n",
    "print(\"Fraction of sinks:\", len(sinks) / len(nodes))"
   ]
  },
  {
   "cell_type": "code",
   "execution_count": null,
   "id": "419872e3",
   "metadata": {},
   "outputs": [
    {
     "data": {
      "image/png": "[encoded data removed]",
      "text/plain": [
       "<Figure size 640x480 with 1 Axes>"
      ]
     },
     "metadata": {},
     "output_type": "display_data"
    }
   ],
   "source": [
    "plt.hist(powers_df['power'], bins=50)\n",
    "plt.xlabel('Power')\n",
    "plt.ylabel('Number of Nodes')\n",
    "plt.title('Histogram of Node Powers')\n",
    "plt.yscale('log')\n",
    "plt.show()"
   ]
  },
  {
   "cell_type": "markdown",
   "id": "b052ee96",
   "metadata": {},
   "source": [
    "# Benchmarking"
   ]
  },
  {
   "cell_type": "code",
   "execution_count": null,
   "id": "a286bf1d",
   "metadata": {},
   "outputs": [
    {
     "data": {
      "image/png": "[encoded data removed]",
      "text/plain": [
       "<Figure size 600x400 with 1 Axes>"
      ]
     },
     "metadata": {},
     "output_type": "display_data"
    }
   ],
   "source": [
    "logger, handler = logger_creator.create_logger(\"benchmarking\")\n",
    "\n",
    "# Verify the solutions are equal\n",
    "powers_le, sinks_le = le.resolve_delegations(delegations, nodes)\n",
    "powers_lp, sinks_lp = lp.resolve_delegations(delegations, nodes)\n",
    "powers_iter = iterative.iterate_delegations(delegations, nodes)\n",
    "\n",
    "if powers_le != powers_lp:\n",
    "    logger.error(\"Powers do not match\")\n",
    "    logger.error(f\"LE: {powers_le}\")\n",
    "    logger.error(f\"LP: {powers_lp}\")\n",
    "    print(\"Mismatching powers in LE and LP. Check the log file for details.\")\n",
    "    \n",
    "for node in sinks_le:\n",
    "    if (powers_lp[node] - powers_iter[node] < 0.01):\n",
    "        continue\n",
    "    else: \n",
    "        logger.error(\"Powers do not match\")\n",
    "        logger.error(f\"LP: {powers_lp}\")\n",
    "        logger.error(f\"Iterative: {powers_iter}\")\n",
    "        print(\"Mismatching powers in LP and Iterative. Check the log file for details.\")\n",
    "        break\n",
    "\n",
    "n = 2\n",
    "\n",
    "# LE\n",
    "le_model = le.set_up(delegations, nodes)\n",
    "start_time = time.time()\n",
    "for _ in range(n):\n",
    "    le.solve(*le_model)\n",
    "end_time = time.time()\n",
    "        \n",
    "time_le = (end_time - start_time) / n\n",
    "\n",
    "# LP\n",
    "lp_model = lp.set_up(delegations, nodes)\n",
    "start_time = time.time()\n",
    "for _ in range(n):\n",
    "    lp.solve(*lp_model)\n",
    "end_time = time.time()\n",
    "\n",
    "time_lp = (end_time - start_time) / n\n",
    "\n",
    "# Iterative\n",
    "start_time = time.time()\n",
    "for _ in range(n):\n",
    "    p = iterative.iterate_delegations(delegations, nodes)\n",
    "end_time = time.time()\n",
    "\n",
    "time_iterative = (end_time - start_time) / n\n",
    "\n",
    "\n",
    "logger.removeHandler(handler)\n",
    "handler.close()\n",
    "\n",
    "plt.figure(figsize=(6,4))\n",
    "plt.bar([\"Iterative Solver\", \"LS Solver\", \"LP Solver\"], [time_iterative, time_le, time_lp])\n",
    "plt.ylabel(\"Runtime (s)\")\n",
    "plt.title(\"Algorithm Runtimes on Bitcoin OTC Trust Graph\")\n",
    "plt.show()"
   ]
  },
  {
   "cell_type": "code",
   "execution_count": 55,
   "id": "6435ce41",
   "metadata": {},
   "outputs": [
    {
     "data": {
      "text/plain": [
       "57.02658470043822"
      ]
     },
     "execution_count": 55,
     "metadata": {},
     "output_type": "execute_result"
    }
   ],
   "source": [
    "powers_iter[3]"
   ]
  },
  {
   "cell_type": "code",
   "execution_count": 57,
   "id": "c37a7d4c",
   "metadata": {},
   "outputs": [
    {
     "data": {
      "text/plain": [
       "0.0"
      ]
     },
     "execution_count": 57,
     "metadata": {},
     "output_type": "execute_result"
    }
   ],
   "source": [
    "powers_lp['3']"
   ]
  },
  {
   "cell_type": "code",
   "execution_count": null,
   "id": "91384575",
   "metadata": {},
   "outputs": [],
   "source": []
  }
 ],
 "metadata": {
  "kernelspec": {
   "display_name": "thesis",
   "language": "python",
   "name": "python3"
  },
  "language_info": {
   "codemirror_mode": {
    "name": "ipython",
    "version": 3
   },
   "file_extension": ".py",
   "mimetype": "text/x-python",
   "name": "python",
   "nbconvert_exporter": "python",
   "pygments_lexer": "ipython3",
   "version": "3.12.9"
  }
 },
 "nbformat": 4,
 "nbformat_minor": 5
}
