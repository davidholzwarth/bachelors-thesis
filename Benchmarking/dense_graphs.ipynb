{
 "cells": [
  {
   "cell_type": "code",
   "execution_count": 1,
   "id": "ffcc3b7c",
   "metadata": {},
   "outputs": [
    {
     "name": "stderr",
     "output_type": "stream",
     "text": [
      "/opt/anaconda3/envs/thesis/lib/python3.12/site-packages/dash_bootstrap_components/_table.py:5: UserWarning: \n",
      "The dash_html_components package is deprecated. Please replace\n",
      "`import dash_html_components as html` with `from dash import html`\n",
      "  import dash_html_components as html\n"
     ]
    }
   ],
   "source": [
    "import sys, os\n",
    "sys.path.append(os.path.abspath(\"/Users/DavidHolzwarth/Uni/EPFL/bachelors-thesis\"))\n",
    "\n",
    "import time\n",
    "import matplotlib.pyplot as plt\n",
    "from scipy.stats import linregress\n",
    "import numpy as np\n",
    "import pandas as pd\n",
    "\n",
    "import LE as le\n",
    "import LP as lp\n",
    "import iterative as iterative\n",
    "import graph_viz as viz\n",
    "import logger_creator\n",
    "\n",
    "from graph_gen import create_delegation_graph\n",
    "import graph_tools\n",
    "import networkx as nx"
   ]
  },
  {
   "cell_type": "code",
   "execution_count": null,
   "id": "704f9bf8",
   "metadata": {},
   "outputs": [
    {
     "name": "stdout",
     "output_type": "stream",
     "text": [
      "0\n",
      "200\n",
      "Mismatching powers in LP and Iterative. Check the log file for details.\n",
      "400\n",
      "Mismatching powers in LP and Iterative. Check the log file for details.\n"
     ]
    }
   ],
   "source": [
    "range_x = range(0, 1000, 200)\n",
    "\n",
    "time_data_le = []\n",
    "time_data_lp = []\n",
    "time_data_iterative = []\n",
    "\n",
    "logger, handler = logger_creator.create_logger(\"benchmarking\")\n",
    "\n",
    "for num_loops in range(1):\n",
    "    times_le = []\n",
    "    times_lp = []\n",
    "    times_iterative = []\n",
    "\n",
    "    for num_nodes in range_x:\n",
    "        print(num_nodes)\n",
    "\n",
    "        countdown = 5\n",
    "        while countdown > 0:\n",
    "            countdown -= 1\n",
    "\n",
    "            complete_graph = nx.gnp_random_graph(num_nodes, p=0.60, directed=True)#complete_graph(num_nodes)\n",
    "            complete_graph = nx.relabel_nodes(complete_graph, {node: str(node) for node in complete_graph.nodes()})\n",
    "            delegation_graph = graph_tools.prepare_graph(complete_graph.nodes(), complete_graph.edges(), sink_frac = 0.01)\n",
    "            delegations_orig = graph_tools.nx_graph_to_dict(delegation_graph)\n",
    "            delegations = graph_tools.invert_graph(delegations_orig)\n",
    "            nodes = list(delegation_graph)\n",
    "\n",
    "            try: \n",
    "                lp_model = lp.set_up(delegations, nodes)\n",
    "                _ = lp.resolve_delegations(delegations, nodes)\n",
    "                break\n",
    "            except:\n",
    "                print(lp_model)\n",
    "                SEED += 1\n",
    "                print(\"Graph infeasible, retrying\")\n",
    "\n",
    "        # Verify the solutions are equal\n",
    "        powers_le, sinks_le = lp.resolve_delegations(delegations, nodes)\n",
    "        powers_lp, sinks_lp = lp.resolve_delegations(delegations, nodes)\n",
    "        powers_iter = iterative.iterate_delegations(delegations, nodes, cutoff=0.0001)\n",
    "\n",
    "        if powers_le != powers_lp:\n",
    "            logger.error(\"Powers do not match\")\n",
    "            logger.error(f\"LE: {powers_le}\")\n",
    "            logger.error(f\"LP: {powers_lp}\")\n",
    "            print(\"Mismatching powers in LE and LP. Check the log file for details.\")\n",
    "            break\n",
    "\n",
    "        for node in sinks_le:\n",
    "            if (powers_lp[node] - powers_iter[node] < 0.01):\n",
    "                continue\n",
    "            else: \n",
    "                logger.error(\"Powers do not match\")\n",
    "                logger.error(f\"LP: {powers_lp}\")\n",
    "                logger.error(f\"Iterative: {powers_iter}\")\n",
    "                print(\"Mismatching powers in LP and Iterative. Check the log file for details.\")\n",
    "                break\n",
    "\n",
    "        n = 10\n",
    "        if 0 <= num_nodes < 500:\n",
    "            n = 20\n",
    "        elif 500 <= num_nodes < 1000:\n",
    "            n = 10\n",
    "\n",
    "        # LE\n",
    "        le_model = le.set_up(delegations, nodes)\n",
    "        start_time = time.time()\n",
    "        for _ in range(n):\n",
    "            le.solve(*le_model)\n",
    "        end_time = time.time()\n",
    "        \n",
    "        times_le.append((end_time - start_time) / n)\n",
    "\n",
    "        # LP\n",
    "        lp_model = lp.set_up(delegations, nodes)\n",
    "        start_time = time.time()\n",
    "        for _ in range(n):\n",
    "            lp.solve(*lp_model)\n",
    "        end_time = time.time()\n",
    "\n",
    "        times_lp.append((end_time - start_time) / n)\n",
    "    \n",
    "        # Iterative\n",
    "        start_time = time.time()\n",
    "        for _ in range(n):\n",
    "            p = iterative.iterate_delegations(delegations, nodes, cutoff=0.0001)\n",
    "        end_time = time.time()\n",
    "\n",
    "        times_iterative.append((end_time - start_time) / n)\n",
    "\n",
    "\n",
    "    time_data_le.append(times_le)\n",
    "    time_data_lp.append(times_lp)\n",
    "    time_data_iterative.append(times_iterative)\n",
    "\n",
    "logger.removeHandler(handler)\n",
    "handler.close()\n",
    "\n",
    "x = list(range_x)\n",
    "\n",
    "plt.clf()\n",
    "\n",
    "for i in range(len(time_data_lp)):\n",
    "    plt.plot(x, time_data_le[i], label=f\"LE\")\n",
    "    plt.plot(x, time_data_lp[i], label=f\"LP\") \n",
    "    plt.plot(x, time_data_iterative[i], label=f\"Iterative\")  \n",
    "\n",
    "plt.legend()\n",
    "plt.xlabel(\"Amount of Nodes\")\n",
    "plt.ylabel(\"Time (s)\")\n",
    "plt.title(\"Runtime of Delegation Algorithms\")\n",
    "plt.show()"
   ]
  },
  {
   "cell_type": "code",
   "execution_count": 13,
   "id": "f7e35242",
   "metadata": {},
   "outputs": [
    {
     "data": {
      "image/png": "[encoded data removed]",
      "text/plain": [
       "<Figure size 640x480 with 1 Axes>"
      ]
     },
     "metadata": {},
     "output_type": "display_data"
    }
   ],
   "source": [
    "for i in range(len(time_data_lp)):\n",
    "    plt.plot(x, time_data_le[i], label=f\"LE\")\n",
    "    plt.plot(x, time_data_lp[i], label=f\"LP\") \n",
    "    plt.plot(x, time_data_iterative[i], label=f\"Iterative\")  \n",
    "\n",
    "plt.legend()\n",
    "plt.xlabel(\"Amount of Nodes\")\n",
    "plt.ylabel(\"Time (s)\")\n",
    "plt.title(\"Runtime of Delegation Algorithms\")\n",
    "plt.show()"
   ]
  },
  {
   "cell_type": "code",
   "execution_count": 30,
   "id": "16c6223a",
   "metadata": {},
   "outputs": [],
   "source": [
    "num_nodes = 5\n",
    "\n",
    "complete_graph = nx.gnp_random_graph(num_nodes, p=0.60, directed=True)\n",
    "complete_graph = nx.relabel_nodes(complete_graph, {node: str(node) for node in complete_graph.nodes()})\n",
    "delegation_graph = graph_tools.prepare_graph(complete_graph.nodes(), complete_graph.edges(), sink_frac = 0.1)\n",
    "delegations_orig = graph_tools.nx_graph_to_dict(delegation_graph)\n",
    "delegations = graph_tools.invert_graph(delegations_orig)\n",
    "nodes = list(delegation_graph)\n",
    "\n",
    "powers = iterative.iterate_delegations(delegations, nodes)"
   ]
  },
  {
   "cell_type": "code",
   "execution_count": 31,
   "id": "f5434cf2",
   "metadata": {},
   "outputs": [
    {
     "data": {
      "text/plain": [
       "{'0': 0.0012189075092731783,\n",
       " '1': 0.0018355395494705266,\n",
       " '3': 0.0008946715927809157,\n",
       " '4': 0.0009651588131714639,\n",
       " '2': 4.995085722535308}"
      ]
     },
     "metadata": {},
     "output_type": "display_data"
    },
    {
     "name": "stdout",
     "output_type": "stream",
     "text": [
      "Parsing the data...Done\n",
      "Parsing the data...Done\n",
      "Parsing the data...Done\n"
     ]
    },
    {
     "name": "stderr",
     "output_type": "stream",
     "text": [
      "Address already in use\n",
      "Port 8050 is in use by another program. Either identify and stop that program, or start the server with a different port.\n",
      "Address already in use\n",
      "Port 8051 is in use by another program. Either identify and stop that program, or start the server with a different port.\n"
     ]
    },
    {
     "data": {
      "text/html": [
       "\n",
       "        <iframe\n",
       "            width=\"100%\"\n",
       "            height=\"650\"\n",
       "            src=\"http://127.0.0.1:8052/\"\n",
       "            frameborder=\"0\"\n",
       "            allowfullscreen\n",
       "            \n",
       "        ></iframe>\n",
       "        "
      ],
      "text/plain": [
       "<IPython.lib.display.IFrame at 0x308a7b920>"
      ]
     },
     "metadata": {},
     "output_type": "display_data"
    },
    {
     "name": "stdout",
     "output_type": "stream",
     "text": [
      "Graph visualization failed because no ports were found or there was another error.\n"
     ]
    },
    {
     "name": "stdout",
     "output_type": "stream",
     "text": [
      "No trigger\n"
     ]
    }
   ],
   "source": [
    "display(powers)\n",
    "viz.visualize_delegation_graph(delegations_orig, powers)"
   ]
  },
  {
   "cell_type": "code",
   "execution_count": null,
   "id": "6444c653",
   "metadata": {},
   "outputs": [],
   "source": []
  }
 ],
 "metadata": {
  "kernelspec": {
   "display_name": "thesis",
   "language": "python",
   "name": "python3"
  },
  "language_info": {
   "codemirror_mode": {
    "name": "ipython",
    "version": 3
   },
   "file_extension": ".py",
   "mimetype": "text/x-python",
   "name": "python",
   "nbconvert_exporter": "python",
   "pygments_lexer": "ipython3",
   "version": "3.12.9"
  }
 },
 "nbformat": 4,
 "nbformat_minor": 5
}
