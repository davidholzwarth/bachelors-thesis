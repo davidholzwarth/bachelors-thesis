{
 "cells": [
  {
   "cell_type": "code",
   "execution_count": 1,
   "id": "95c9c9f9",
   "metadata": {},
   "outputs": [
    {
     "name": "stderr",
     "output_type": "stream",
     "text": [
      "/opt/anaconda3/envs/thesis/lib/python3.12/site-packages/dash_bootstrap_components/_table.py:5: UserWarning: \n",
      "The dash_html_components package is deprecated. Please replace\n",
      "`import dash_html_components as html` with `from dash import html`\n",
      "  import dash_html_components as html\n"
     ]
    }
   ],
   "source": [
    "import sys, os\n",
    "sys.path.append(os.path.abspath(\"/Users/DavidHolzwarth/Uni/EPFL/bachelors-thesis\"))\n",
    "\n",
    "import time\n",
    "import matplotlib.pyplot as plt\n",
    "\n",
    "import LE as le\n",
    "import LP as lp\n",
    "import iterative as iterative\n",
    "import logger_creator\n",
    "\n",
    "import graph_tools\n",
    "import graph_viz as viz\n",
    "import networkx as nx\n",
    "import numpy as np\n",
    "import pandas as pd\n",
    "import random"
   ]
  },
  {
   "cell_type": "code",
   "execution_count": 3,
   "id": "c64849ca",
   "metadata": {},
   "outputs": [],
   "source": [
    "def generate_rmat_edge(N, A, B, C, D):\n",
    "    \"\"\"\n",
    "    Recursively generate a single edge based on R-MAT quadrant probabilities.\n",
    "    \"\"\"\n",
    "    src, dst = 0, 0\n",
    "    step = N // 2\n",
    "    while step > 0:\n",
    "        p = random.random()\n",
    "        if p < A:\n",
    "            pass  # top-left quadrant\n",
    "        elif p < A + B:\n",
    "            dst += step  # top-right\n",
    "        elif p < A + B + C:\n",
    "            src += step  # bottom-left\n",
    "        else:\n",
    "            src += step\n",
    "            dst += step  # bottom-right\n",
    "        step //= 2\n",
    "    return src, dst\n",
    "\n",
    "def generate_rmat_multidigraph(N, M, A=0.45, B=0.15, C=0.15, D=0.25, seed=None):\n",
    "    if seed is not None:\n",
    "        random.seed(seed)\n",
    "\n",
    "    G = nx.MultiDiGraph()\n",
    "    G.add_nodes_from(range(N))\n",
    "\n",
    "    for _ in range(M):\n",
    "        src, dst = generate_rmat_edge(N, A, B, C, D)\n",
    "        G.add_edge(src, dst)\n",
    "\n",
    "    return G\n",
    "\n",
    "def collapse_multiedges_to_weighted_digraph(multi_graph: nx.MultiDiGraph) -> nx.DiGraph:\n",
    "    \"\"\"\n",
    "    Convert a MultiDiGraph to a DiGraph, summing the count of parallel edges\n",
    "    into a 'weight' attribute for each edge.\n",
    "    \"\"\"\n",
    "    digraph = nx.DiGraph()\n",
    "\n",
    "    # Add nodes to the new graph (copy all node attributes)\n",
    "    digraph.add_nodes_from(multi_graph.nodes(data=True))\n",
    "\n",
    "    # Count edges and assign weight\n",
    "    for u, v in multi_graph.edges():\n",
    "        if digraph.has_edge(u, v):\n",
    "            digraph[u][v]['weight'] += 1\n",
    "        else:\n",
    "            digraph.add_edge(u, v, weight=1)\n",
    "\n",
    "    return digraph\n",
    "\n",
    "def remove_low_weight_edges(G: nx.DiGraph, threshold: int = 2):\n",
    "    \"\"\"\n",
    "    Removes all edges from G where the 'weight' attribute is less than the given threshold.\n",
    "    This modifies G in-place.\n",
    "    \"\"\"\n",
    "    edges_to_remove = [(u, v) for u, v, data in G.edges(data=True) if data.get(\"weight\", 0) < threshold]\n",
    "    G.remove_edges_from(edges_to_remove)\n"
   ]
  },
  {
   "cell_type": "code",
   "execution_count": null,
   "id": "a6daf791",
   "metadata": {},
   "outputs": [
    {
     "name": "stdout",
     "output_type": "stream",
     "text": [
      "Nodes: 64, Edges (including duplicates): 183\n"
     ]
    }
   ],
   "source": [
    "# Parameters\n",
    "N = 64  # Nodes (should be a power of 2 for \"clean\" R-MAT behavior)\n",
    "M = N * 10  # Number of edges\n",
    "A, B, C = 0.45, 0.15, 0.15\n",
    "D = 1.0 - (A + B + C)\n",
    "\n",
    "G = generate_rmat_multidigraph(N, M, A, B, C, D, seed=42)\n",
    "G = collapse_multiedges_to_weighted_digraph(G)\n",
    "remove_low_weight_edges(G, threshold=2)\n",
    "\n",
    "print(f\"Nodes: {G.number_of_nodes()}, Edges (including duplicates): {G.number_of_edges()}\")\n",
    "\n",
    "delegations = graph_tools.nx_graph_to_dict(G)"
   ]
  },
  {
   "cell_type": "code",
   "execution_count": 101,
   "id": "c995b1d5",
   "metadata": {},
   "outputs": [],
   "source": [
    "#viz.visualize_delegation_graph(delegations)"
   ]
  },
  {
   "cell_type": "markdown",
   "id": "3ee40116",
   "metadata": {},
   "source": [
    "# Benchmarking"
   ]
  },
  {
   "cell_type": "code",
   "execution_count": 12,
   "id": "d795c810",
   "metadata": {},
   "outputs": [
    {
     "name": "stdout",
     "output_type": "stream",
     "text": [
      "1\n",
      "2\n",
      "4\n",
      "8\n",
      "16\n",
      "32\n",
      "64\n",
      "128\n",
      "256\n",
      "512\n"
     ]
    }
   ],
   "source": [
    "range_x = [2 ** i for i in range(0, 10)]  # 2^0 to 2^4\n",
    "\n",
    "time_data_le = []\n",
    "time_data_lp = []\n",
    "time_data_iterative = []\n",
    "\n",
    "zero_indegree_counts = []\n",
    "zero_outdegree_counts = []\n",
    "\n",
    "logger, handler = logger_creator.create_logger(\"benchmarking\")\n",
    "\n",
    "times_le = []\n",
    "times_lp = []\n",
    "times_iterative = []\n",
    "\n",
    "for num_nodes in range_x:\n",
    "    print(num_nodes)\n",
    "\n",
    "    countdown = 5\n",
    "    while countdown > 0:\n",
    "        countdown -= 1\n",
    "\n",
    "        # Parameters\n",
    "        N = num_nodes\n",
    "        M = N * 10  # Number of edges\n",
    "        A, B, C = 0.45, 0.15, 0.15\n",
    "        D = 1.0 - (A + B + C)\n",
    "\n",
    "        G = generate_rmat_multidigraph(N, M, A, B, C, D, seed=42)\n",
    "        G = collapse_multiedges_to_weighted_digraph(G)\n",
    "        remove_low_weight_edges(G, threshold=2)\n",
    "\n",
    "        delegations = graph_tools.nx_graph_to_dict(G)\n",
    "\n",
    "        delegation_graph = graph_tools.prepare_graph(G.nodes(), G.edges())\n",
    "        delegations_orig = graph_tools.nx_graph_to_dict(delegation_graph)\n",
    "        delegations = graph_tools.invert_graph(delegations_orig)\n",
    "        nodes = list(delegation_graph)\n",
    "\n",
    "        try:\n",
    "            lp_model = lp.set_up(delegations, nodes)\n",
    "            _ = lp.resolve_delegations(delegations, nodes)\n",
    "            break\n",
    "        except:\n",
    "            print(lp_model)\n",
    "            SEED += 1\n",
    "            print(\"Graph infeasible, retrying\")\n",
    "\n",
    "    # Collect in/out-degree statistics\n",
    "    zero_indegree = sum(1 for node in G.nodes() if G.in_degree(node) == 0)\n",
    "    zero_outdegree = sum(1 for node in G.nodes() if G.out_degree(node) == 0)\n",
    "    zero_indegree_counts.append(zero_indegree)\n",
    "    zero_outdegree_counts.append(zero_outdegree)\n",
    "\n",
    "    # Verify the solutions are equal\n",
    "    powers_le, sinks_le = le.resolve_delegations(delegations, nodes)\n",
    "    powers_lp, sinks_lp = lp.resolve_delegations(delegations, nodes)\n",
    "    powers_iter = iterative.iterate_delegations(delegations, nodes)\n",
    "\n",
    "    if powers_le.keys() != powers_lp.keys() or any(abs(powers_le[k] - powers_lp[k]) > 10**-4 for k in powers_le):\n",
    "        logger.error(\"Powers do not match\")\n",
    "        logger.error(f\"LE: {powers_le}\")\n",
    "        logger.error(f\"LP: {powers_lp}\")\n",
    "        print(\"Mismatching powers in LE and LP. Check the log file for details.\")\n",
    "        break\n",
    "\n",
    "    for node in sinks_le:\n",
    "        if powers_lp[node] - powers_iter[node] < 0.01:\n",
    "            continue\n",
    "        else:\n",
    "            logger.error(\"Powers do not match\")\n",
    "            logger.error(f\"LP: {powers_lp}\")\n",
    "            logger.error(f\"Iterative: {powers_iter}\")\n",
    "            print(\"Mismatching powers in LP and Iterative. Check the log file for details.\")\n",
    "            break\n",
    "\n",
    "    n = 100  # You could still use your dynamic n logic if needed\n",
    "\n",
    "    # LE\n",
    "    le_model = le.set_up(delegations, nodes)\n",
    "    start_time = time.time()\n",
    "    for _ in range(n):\n",
    "        le.solve(*le_model)\n",
    "    end_time = time.time()\n",
    "    times_le.append((end_time - start_time) / n)\n",
    "\n",
    "    # LP\n",
    "    lp_model = lp.set_up(delegations, nodes)\n",
    "    start_time = time.time()\n",
    "    for _ in range(n):\n",
    "        lp.solve(*lp_model)\n",
    "    end_time = time.time()\n",
    "    times_lp.append((end_time - start_time) / n)\n",
    "\n",
    "    # Iterative\n",
    "    start_time = time.time()\n",
    "    for _ in range(n):\n",
    "        p = iterative.iterate_delegations(delegations, nodes)\n",
    "    end_time = time.time()\n",
    "    times_iterative.append((end_time - start_time) / n)\n",
    "\n",
    "time_data_le.append(times_le)\n",
    "time_data_lp.append(times_lp)\n",
    "time_data_iterative.append(times_iterative)\n",
    "\n",
    "logger.removeHandler(handler)\n",
    "handler.close()\n"
   ]
  },
  {
   "cell_type": "code",
   "execution_count": 6,
   "id": "a843e2f8",
   "metadata": {},
   "outputs": [
    {
     "name": "stdout",
     "output_type": "stream",
     "text": [
      "time_data_iterative\n",
      "[[7.557868957519531e-05, 6.313085556030274e-05, 8.319854736328125e-05, 0.00020368337631225585, 0.00028682947158813475]]\n",
      "time_data_le\n",
      "[[2.1691322326660157e-05, 2.5250911712646484e-05, 2.26593017578125e-05, 2.2852420806884764e-05, 2.8417110443115234e-05]]\n",
      "time_data_lp\n",
      "[[0.02182171106338501, 0.02187483072280884, 0.02092345952987671, 0.021190390586853028, 0.022046842575073243]]\n"
     ]
    }
   ],
   "source": [
    "x = list(range_x)\n",
    "\n",
    "print(\"time_data_iterative\")\n",
    "print(time_data_iterative)\n",
    "print(\"time_data_le\")\n",
    "print(time_data_le)\n",
    "print(\"time_data_lp\")\n",
    "print(time_data_lp)"
   ]
  },
  {
   "cell_type": "code",
   "execution_count": 7,
   "id": "57741f17",
   "metadata": {},
   "outputs": [
    {
     "data": {
      "image/png": "[encoded data removed]",
      "text/plain": [
       "<Figure size 640x480 with 1 Axes>"
      ]
     },
     "metadata": {},
     "output_type": "display_data"
    }
   ],
   "source": [
    "plt.clf()\n",
    "\n",
    "for i in range(len(time_data_lp)):\n",
    "    plt.plot(x, time_data_le[i], label=f\"LE Solver\")\n",
    "    plt.plot(x, time_data_lp[i], label=f\"LP Solver\") \n",
    "    plt.plot(x, time_data_iterative[i], label=f\"Iterative Solver\")  \n",
    "\n",
    "plt.legend()\n",
    "plt.xlabel(\"Amount of Nodes\")\n",
    "plt.ylabel(\"Time (s)\")\n",
    "plt.title(\"Runtime of Delegation Algorithms\")\n",
    "plt.loglog()\n",
    "plt.show()"
   ]
  },
  {
   "cell_type": "code",
   "execution_count": null,
   "id": "fec9c46b",
   "metadata": {},
   "outputs": [],
   "source": []
  }
 ],
 "metadata": {
  "kernelspec": {
   "display_name": "thesis",
   "language": "python",
   "name": "python3"
  },
  "language_info": {
   "codemirror_mode": {
    "name": "ipython",
    "version": 3
   },
   "file_extension": ".py",
   "mimetype": "text/x-python",
   "name": "python",
   "nbconvert_exporter": "python",
   "pygments_lexer": "ipython3",
   "version": "3.12.9"
  }
 },
 "nbformat": 4,
 "nbformat_minor": 5
}
