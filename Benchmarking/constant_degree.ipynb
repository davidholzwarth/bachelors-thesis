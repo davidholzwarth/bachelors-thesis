{
 "cells": [
  {
   "cell_type": "code",
   "execution_count": 1,
   "id": "d2c997f9",
   "metadata": {},
   "outputs": [
    {
     "name": "stderr",
     "output_type": "stream",
     "text": [
      "/opt/anaconda3/envs/thesis/lib/python3.12/site-packages/dash_bootstrap_components/_table.py:5: UserWarning: \n",
      "The dash_html_components package is deprecated. Please replace\n",
      "`import dash_html_components as html` with `from dash import html`\n",
      "  import dash_html_components as html\n"
     ]
    }
   ],
   "source": [
    "import sys, os\n",
    "sys.path.append(os.path.abspath(\"/Users/DavidHolzwarth/Uni/EPFL/bachelors-thesis\"))\n",
    "\n",
    "import time\n",
    "import matplotlib.pyplot as plt\n",
    "\n",
    "import LE as le\n",
    "import LP as lp\n",
    "import iterative as iterative\n",
    "import graph_viz as viz\n",
    "import logger_creator\n",
    "\n",
    "from graph_gen import create_delegation_graph\n",
    "import graph_tools\n",
    "import networkx as nx"
   ]
  },
  {
   "cell_type": "markdown",
   "id": "41e6659b",
   "metadata": {},
   "source": [
    "# Maybe this is dumb,. since its already covered by some of hte community graphs of networkx graphs\n",
    "\n",
    "https://networkx.org/documentation/stable/reference/generators.html\n",
    "\n",
    "this is good https://networkx.org/documentation/stable/reference/generated/networkx.generators.community.relaxed_caveman_graph.html#networkx.generators.community.relaxed_caveman_graph relaxed caveman graph"
   ]
  },
  {
   "cell_type": "code",
   "execution_count": 15,
   "id": "a527c33a",
   "metadata": {},
   "outputs": [
    {
     "name": "stdout",
     "output_type": "stream",
     "text": [
      "0\n",
      "1\n"
     ]
    },
    {
     "name": "stderr",
     "output_type": "stream",
     "text": [
      "/Users/DavidHolzwarth/Uni/EPFL/bachelors-thesis/LE.py:45: SparseEfficiencyWarning:\n",
      "\n",
      "spsolve requires A be CSC or CSR matrix format\n",
      "\n"
     ]
    },
    {
     "name": "stdout",
     "output_type": "stream",
     "text": [
      "2\n",
      "3\n",
      "4\n",
      "5\n",
      "(DelegationResolution:\n",
      "MINIMIZE\n",
      "None\n",
      "SUBJECT TO\n",
      "Constraint_0: 0 = 1\n",
      "\n",
      "Constraint_1: - 0.5 0 + 1 = 1\n",
      "\n",
      "Constraint_2: - 0.5 0 - 1 + 2 = 1\n",
      "\n",
      "Constraint_9: - 2 + 9 = 1\n",
      "\n",
      "Constraint_3: 3 = 1\n",
      "\n",
      "Constraint_5: - 0.5 3 - 4 + 5 = 1\n",
      "\n",
      "Constraint_8: - 0.5 3 - 0.5 6 - 7 + 8 = 1\n",
      "\n",
      "Constraint_4: 4 = 1\n",
      "\n",
      "Constraint_6: 6 = 1\n",
      "\n",
      "Constraint_7: - 0.5 6 + 7 = 1\n",
      "\n",
      "Constraint_10: 10 - 9 = 1\n",
      "\n",
      "Constraint_12: - 10 + 12 = 1\n",
      "\n",
      "Constraint_14: - 0.5 12 - 13 + 14 = 1\n",
      "\n",
      "Constraint_13: 13 = 1\n",
      "\n",
      "SinkNodesConstraint: 14 + 5 + 8 = 14\n",
      "\n",
      "VARIABLES\n",
      "0 free Continuous\n",
      "1 free Continuous\n",
      "10 free Continuous\n",
      "12 free Continuous\n",
      "13 free Continuous\n",
      "14 free Continuous\n",
      "2 free Continuous\n",
      "3 free Continuous\n",
      "4 free Continuous\n",
      "5 free Continuous\n",
      "6 free Continuous\n",
      "7 free Continuous\n",
      "8 free Continuous\n",
      "9 free Continuous\n",
      ", ['5', '8', '14'])\n",
      "Parsing the data...Done\n"
     ]
    },
    {
     "data": {
      "text/html": [
       "\n",
       "        <iframe\n",
       "            width=\"100%\"\n",
       "            height=\"650\"\n",
       "            src=\"http://127.0.0.1:8050/\"\n",
       "            frameborder=\"0\"\n",
       "            allowfullscreen\n",
       "            \n",
       "        ></iframe>\n",
       "        "
      ],
      "text/plain": [
       "<IPython.lib.display.IFrame at 0x15ba8c3e0>"
      ]
     },
     "metadata": {},
     "output_type": "display_data"
    },
    {
     "ename": "Exception",
     "evalue": "Graph infeasible",
     "output_type": "error",
     "traceback": [
      "\u001b[31m---------------------------------------------------------------------------\u001b[39m",
      "\u001b[31mException\u001b[39m                                 Traceback (most recent call last)",
      "\u001b[36mCell\u001b[39m\u001b[36m \u001b[39m\u001b[32mIn[15]\u001b[39m\u001b[32m, line 33\u001b[39m\n\u001b[32m     32\u001b[39m lp_model = lp.set_up(delegations, nodes)\n\u001b[32m---> \u001b[39m\u001b[32m33\u001b[39m _ = \u001b[43mlp\u001b[49m\u001b[43m.\u001b[49m\u001b[43mresolve_delegations\u001b[49m\u001b[43m(\u001b[49m\u001b[43mdelegations\u001b[49m\u001b[43m,\u001b[49m\u001b[43m \u001b[49m\u001b[43mnodes\u001b[49m\u001b[43m)\u001b[49m\n\u001b[32m     34\u001b[39m \u001b[38;5;28;01mbreak\u001b[39;00m\n",
      "\u001b[36mFile \u001b[39m\u001b[32m~/Uni/EPFL/bachelors-thesis/LP.py:106\u001b[39m, in \u001b[36mresolve_delegations\u001b[39m\u001b[34m(delegations, nodes)\u001b[39m\n\u001b[32m    105\u001b[39m \u001b[38;5;28;01melse\u001b[39;00m:\n\u001b[32m--> \u001b[39m\u001b[32m106\u001b[39m     \u001b[38;5;28;01mraise\u001b[39;00m \u001b[38;5;167;01mException\u001b[39;00m(\u001b[33mf\u001b[39m\u001b[33m\"\u001b[39m\u001b[33mLP model is \u001b[39m\u001b[38;5;132;01m{\u001b[39;00mconstants.LpStatus[model.status]\u001b[38;5;132;01m}\u001b[39;00m\u001b[33m. \u001b[39m\u001b[38;5;132;01m{\u001b[39;00mmodel\u001b[38;5;132;01m}\u001b[39;00m\u001b[33m\"\u001b[39m)\n",
      "\u001b[31mException\u001b[39m: LP model is Infeasible. DelegationResolution:\nMINIMIZE\nNone\nSUBJECT TO\nConstraint_0: 0 = 1\n\nConstraint_1: - 0.5 0 + 1 = 1\n\nConstraint_2: - 0.5 0 - 1 + 2 = 1\n\nConstraint_9: - 2 + 9 = 1\n\nConstraint_3: 3 = 1\n\nConstraint_5: - 0.5 3 - 4 + 5 = 1\n\nConstraint_8: - 0.5 3 - 0.5 6 - 7 + 8 = 1\n\nConstraint_4: 4 = 1\n\nConstraint_6: 6 = 1\n\nConstraint_7: - 0.5 6 + 7 = 1\n\nConstraint_10: 10 - 9 = 1\n\nConstraint_12: - 10 + 12 = 1\n\nConstraint_14: - 0.5 12 - 13 + 14 = 1\n\nConstraint_13: 13 = 1\n\nSinkNodesConstraint: 14 + 5 + 8 = 14\n\nVARIABLES\n0 free Continuous\n1 free Continuous\n10 free Continuous\n12 free Continuous\n13 free Continuous\n14 free Continuous\n2 free Continuous\n3 free Continuous\n4 free Continuous\n5 free Continuous\n6 free Continuous\n7 free Continuous\n8 free Continuous\n9 free Continuous\n__dummy = 0 Continuous\n",
      "\nDuring handling of the above exception, another exception occurred:\n",
      "\u001b[31mException\u001b[39m                                 Traceback (most recent call last)",
      "\u001b[36mCell\u001b[39m\u001b[36m \u001b[39m\u001b[32mIn[15]\u001b[39m\u001b[32m, line 38\u001b[39m\n\u001b[32m     36\u001b[39m \u001b[38;5;28mprint\u001b[39m(lp_model)\n\u001b[32m     37\u001b[39m viz.visualize_delegation_graph(delegations_orig, {node: \u001b[32m0\u001b[39m \u001b[38;5;28;01mfor\u001b[39;00m node \u001b[38;5;129;01min\u001b[39;00m nodes})\n\u001b[32m---> \u001b[39m\u001b[32m38\u001b[39m \u001b[38;5;28;01mraise\u001b[39;00m \u001b[38;5;167;01mException\u001b[39;00m(\u001b[33m\"\u001b[39m\u001b[33mGraph infeasible\u001b[39m\u001b[33m\"\u001b[39m)\n\u001b[32m     39\u001b[39m SEED += \u001b[32m1\u001b[39m\n\u001b[32m     40\u001b[39m \u001b[38;5;28mprint\u001b[39m(\u001b[33m\"\u001b[39m\u001b[33mGraph infeasible, retrying\u001b[39m\u001b[33m\"\u001b[39m)\n",
      "\u001b[31mException\u001b[39m: Graph infeasible"
     ]
    },
    {
     "name": "stdout",
     "output_type": "stream",
     "text": [
      "No trigger\n"
     ]
    }
   ],
   "source": [
    "range_x = range(0, 200, 1)\n",
    "\n",
    "time_data_le = []\n",
    "time_data_lp = []\n",
    "time_data_iterative = []\n",
    "cycles = []\n",
    "\n",
    "SEED = 0\n",
    "\n",
    "logger, handler = logger_creator.create_logger(\"benchmarking\")\n",
    "\n",
    "for num_loops in range(1):\n",
    "    times_le = []\n",
    "    times_lp = []\n",
    "    times_iterative = []\n",
    "\n",
    "    for num_cliques in range_x:\n",
    "        print(num_cliques)\n",
    "\n",
    "        countdown = 5\n",
    "        while countdown > 0:\n",
    "            countdown -= 1\n",
    "\n",
    "            relaxed_caveman_graph = nx.relaxed_caveman_graph(num_cliques, 3, 0.3, seed=SEED)\n",
    "            relaxed_caveman_graph = graph_tools.nx_graph_nodes_to_str(relaxed_caveman_graph)\n",
    "            delegation_graph = graph_tools.prepare_graph(relaxed_caveman_graph.nodes(), relaxed_caveman_graph.edges())\n",
    "            delegations_orig = graph_tools.nx_graph_to_dict(delegation_graph)\n",
    "            delegations = graph_tools.invert_graph(delegations_orig)\n",
    "            nodes = list(delegation_graph)\n",
    "\n",
    "            try: \n",
    "                lp_model = lp.set_up(delegations, nodes)\n",
    "                _ = lp.resolve_delegations(delegations, nodes)\n",
    "                break\n",
    "            except:\n",
    "                print(lp_model)\n",
    "                viz.visualize_delegation_graph(delegations_orig, {node: 0 for node in nodes})\n",
    "                raise Exception(\"Graph infeasible\")\n",
    "                SEED += 1\n",
    "                print(\"Graph infeasible, retrying\")\n",
    "\n",
    "        # Verify the solutions are equal\n",
    "        powers_le, sinks_le = lp.resolve_delegations(delegations, nodes)\n",
    "        powers_lp, sinks_lp = lp.resolve_delegations(delegations, nodes)\n",
    "        powers_iter = iterative.iterate_delegations(delegations, nodes)\n",
    "\n",
    "        if powers_le != powers_lp:\n",
    "            logger.error(\"Powers do not match\")\n",
    "            logger.error(f\"LE: {powers_le}\")\n",
    "            logger.error(f\"LP: {powers_lp}\")\n",
    "            print(\"Mismatching powers in LE and LP. Check the log file for details.\")\n",
    "            break\n",
    "\n",
    "        for node in sinks_le:\n",
    "            if (powers_lp[node] - powers_iter[node] < 0.01):\n",
    "                continue\n",
    "            else: \n",
    "                logger.error(\"Powers do not match\")\n",
    "                logger.error(f\"LP: {powers_lp}\")\n",
    "                logger.error(f\"Iterative: {powers_iter}\")\n",
    "                print(\"Mismatching powers in LP and Iterative. Check the log file for details.\")\n",
    "                break\n",
    "\n",
    "\n",
    "        G = graph_tools.dict_to_nx_graph(delegations_orig)\n",
    "        num_cycles = len(list(nx.simple_cycles(G)))\n",
    "        cycles += [num_cycles]\n",
    "\n",
    "        n = 50\n",
    "        if 0 <= num_cliques < 50:\n",
    "            n = 100\n",
    "        elif 50 <= num_cliques < 100:\n",
    "            n = 100\n",
    "        elif num_cliques < 200:\n",
    "            n = 100\n",
    "\n",
    "        # LE\n",
    "        le_model = le.set_up(delegations, nodes)\n",
    "        start_time = time.time()\n",
    "        for _ in range(n):\n",
    "            le.solve(*le_model)\n",
    "        end_time = time.time()\n",
    "        \n",
    "        times_le.append((end_time - start_time) / n)\n",
    "\n",
    "        # LP\n",
    "        lp_model = lp.set_up(delegations, nodes)\n",
    "        start_time = time.time()\n",
    "        for _ in range(n):\n",
    "            lp.solve(*lp_model)\n",
    "        end_time = time.time()\n",
    "\n",
    "        times_lp.append((end_time - start_time) / n)\n",
    "    \n",
    "        # Iterative\n",
    "        start_time = time.time()\n",
    "        for _ in range(n):\n",
    "            p = iterative.iterate_delegations(delegations, nodes)\n",
    "        end_time = time.time()\n",
    "\n",
    "        times_iterative.append((end_time - start_time) / n)\n",
    "\n",
    "\n",
    "    time_data_le.append(times_le)\n",
    "    time_data_lp.append(times_lp)\n",
    "    time_data_iterative.append(times_iterative)\n",
    "\n",
    "logger.removeHandler(handler)\n",
    "handler.close()\n",
    "\n",
    "print(\"Average number of cycles: \", sum(cycles) / len(cycles))\n",
    "\n",
    "x = list(range_x)\n",
    "\n",
    "plt.clf()\n",
    "\n",
    "for i in range(len(time_data_lp)):\n",
    "    plt.plot(x, time_data_le[i], label=f\"LE\")\n",
    "    plt.plot(x, time_data_lp[i], label=f\"LP\") \n",
    "    plt.plot(x, time_data_iterative[i], label=f\"Iterative\")  \n",
    "\n",
    "plt.legend()\n",
    "plt.xlabel(\"Amount of Nodes\")\n",
    "plt.ylabel(\"Time (s)\")\n",
    "plt.title(\"Runtime of Delegation Algorithms\")\n",
    "plt.show()"
   ]
  },
  {
   "cell_type": "code",
   "execution_count": 16,
   "id": "d09ae8f0",
   "metadata": {},
   "outputs": [
    {
     "name": "stdout",
     "output_type": "stream",
     "text": [
      "Parsing the data...Done\n"
     ]
    },
    {
     "data": {
      "text/html": [
       "\n",
       "        <iframe\n",
       "            width=\"100%\"\n",
       "            height=\"650\"\n",
       "            src=\"http://127.0.0.1:8050/\"\n",
       "            frameborder=\"0\"\n",
       "            allowfullscreen\n",
       "            \n",
       "        ></iframe>\n",
       "        "
      ],
      "text/plain": [
       "<IPython.lib.display.IFrame at 0x15be1e720>"
      ]
     },
     "metadata": {},
     "output_type": "display_data"
    },
    {
     "name": "stdout",
     "output_type": "stream",
     "text": [
      "No trigger\n"
     ]
    }
   ],
   "source": [
    "viz.visualize_delegation_graph(delegations_orig, {node: 0 for node in nodes})"
   ]
  },
  {
   "cell_type": "code",
   "execution_count": 17,
   "id": "2a844444",
   "metadata": {},
   "outputs": [
    {
     "data": {
      "image/png": "[encoded data removed]",
      "text/plain": [
       "<Figure size 640x480 with 1 Axes>"
      ]
     },
     "metadata": {},
     "output_type": "display_data"
    }
   ],
   "source": [
    "nx.draw(relaxed_caveman_graph, with_labels=True, node_color=\"lightblue\", edge_color=\"gray\")\n",
    "plt.show()"
   ]
  },
  {
   "cell_type": "code",
   "execution_count": null,
   "id": "ec5b05ac",
   "metadata": {},
   "outputs": [],
   "source": []
  }
 ],
 "metadata": {
  "kernelspec": {
   "display_name": "thesis",
   "language": "python",
   "name": "python3"
  },
  "language_info": {
   "codemirror_mode": {
    "name": "ipython",
    "version": 3
   },
   "file_extension": ".py",
   "mimetype": "text/x-python",
   "name": "python",
   "nbconvert_exporter": "python",
   "pygments_lexer": "ipython3",
   "version": "3.12.9"
  }
 },
 "nbformat": 4,
 "nbformat_minor": 5
}
