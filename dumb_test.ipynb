{
 "cells": [
  {
   "cell_type": "code",
   "execution_count": 2,
   "id": "09612a47",
   "metadata": {},
   "outputs": [
    {
     "name": "stderr",
     "output_type": "stream",
     "text": [
      "/opt/anaconda3/envs/thesis/lib/python3.12/site-packages/dash_bootstrap_components/_table.py:5: UserWarning: \n",
      "The dash_html_components package is deprecated. Please replace\n",
      "`import dash_html_components as html` with `from dash import html`\n",
      "  import dash_html_components as html\n"
     ]
    }
   ],
   "source": [
    "import networkx as nx\n",
    "import graph_tools\n",
    "import graph_viz\n"
   ]
  },
  {
   "cell_type": "code",
   "execution_count": 12,
   "id": "fd31822f",
   "metadata": {},
   "outputs": [],
   "source": [
    "graph = nx.DiGraph()\n",
    "\n",
    "graph.add_edge(\"A\", \"B\", weight=1)\n",
    "graph.add_edge(\"B\", \"C\", weight=1)\n",
    "graph.add_edge(\"C\", \"A\", weight=1)\n",
    "graph.add_edge(\"D\", \"A\", weight=0.5)\n",
    "graph.add_edge(\"D\", \"E\", weight=0.5)"
   ]
  },
  {
   "cell_type": "code",
   "execution_count": 22,
   "id": "bee4303f",
   "metadata": {},
   "outputs": [],
   "source": [
    "graph = nx.DiGraph()\n",
    "\n",
    "graph.add_edge('A', 'B', weight=1)\n",
    "graph.add_edge('B', 'C', weight=0.5)\n",
    "graph.add_edge('C', 'A', weight=1)\n",
    "graph.add_edge('B', 'E', weight=0.5)\n",
    "graph.add_edge('E', 'C', weight=0.5)\n",
    "graph.add_edge('E', 'A', weight=0.5)\n",
    "\n",
    "graph.add_edge('X', 'Z', weight=1)\n",
    "graph.add_edge('Y', 'Z', weight=1)\n",
    "graph.add_edge('Z', 'A', weight=0.5)\n",
    "graph.add_edge('Z', 'W', weight=0.5)\n",
    "\n",
    "graph.add_edge('M', 'M', weight=1)\n",
    "graph.add_edge('N', 'M', weight=0.5)\n",
    "graph.add_edge('N', 'N', weight=0.5)"
   ]
  },
  {
   "cell_type": "code",
   "execution_count": 23,
   "id": "a688e0b4",
   "metadata": {},
   "outputs": [],
   "source": [
    "def collapse_terminal_sccs(graph, lost_node_name=\"lost\"):\n",
    "    \"\"\"\n",
    "    Replaces terminal strongly connected components with a single 'lost' sink node.\n",
    "    All external delegations into the SCC are redirected to the lost node.\n",
    "    \"\"\"\n",
    "    \n",
    "    changed = False\n",
    "    sccs = list(nx.strongly_connected_components(graph))\n",
    "\n",
    "    for scc in sccs:\n",
    "        if lost_node_name in scc:\n",
    "            continue  # skip lost node if it was already added earlier\n",
    "\n",
    "        # Check if SCC is terminal\n",
    "        is_terminal = True\n",
    "        for node in scc:\n",
    "            if graph.out_degree(node) == 0:\n",
    "                is_terminal = False  # it's a sink, so SCC is not terminal\n",
    "                break\n",
    "            \n",
    "            for _, v in graph.out_edges(node):\n",
    "                if v not in scc:\n",
    "                    is_terminal = False\n",
    "                    break\n",
    "            if not is_terminal:\n",
    "                break\n",
    "\n",
    "        if is_terminal:\n",
    "            # Redirect incoming edges to SCC from outside\n",
    "            for node in scc:\n",
    "                for u, _ in list(graph.in_edges(node)):\n",
    "                    if u not in scc:\n",
    "                        weight = graph[u][node].get(\"weight\")\n",
    "                        if graph.has_edge(u, lost_node_name):\n",
    "                            graph[u][lost_node_name][\"weight\"] += weight\n",
    "                        else:\n",
    "                            graph.add_edge(u, lost_node_name, weight=weight)\n",
    "                        graph.remove_edge(u, node)\n",
    "\n",
    "            # Remove the entire SCC\n",
    "            graph.remove_nodes_from(scc)\n",
    "            changed = True\n",
    "            break  # restart since the graph changed\n",
    "\n",
    "    return changed\n",
    "\n",
    "# Keep removing terminal SCCs until none are left\n",
    "while collapse_terminal_sccs(graph):\n",
    "    pass\n"
   ]
  },
  {
   "cell_type": "code",
   "execution_count": 24,
   "id": "b4c57979",
   "metadata": {},
   "outputs": [
    {
     "data": {
      "text/plain": [
       "[('X', 'Z', 1),\n",
       " ('Z', 'W', 0.5),\n",
       " ('Z', 'lost', 0.5),\n",
       " ('Y', 'Z', 1),\n",
       " ('N', 'N', 0.5),\n",
       " ('N', 'lost', 0.5)]"
      ]
     },
     "execution_count": 24,
     "metadata": {},
     "output_type": "execute_result"
    }
   ],
   "source": [
    "list(graph.edges.data('weight'))"
   ]
  },
  {
   "cell_type": "code",
   "execution_count": null,
   "id": "6a687c76",
   "metadata": {},
   "outputs": [],
   "source": []
  },
  {
   "cell_type": "code",
   "execution_count": null,
   "id": "98849560",
   "metadata": {},
   "outputs": [],
   "source": []
  },
  {
   "cell_type": "code",
   "execution_count": null,
   "id": "9cb444f6",
   "metadata": {},
   "outputs": [],
   "source": []
  }
 ],
 "metadata": {
  "kernelspec": {
   "display_name": "thesis",
   "language": "python",
   "name": "python3"
  },
  "language_info": {
   "codemirror_mode": {
    "name": "ipython",
    "version": 3
   },
   "file_extension": ".py",
   "mimetype": "text/x-python",
   "name": "python",
   "nbconvert_exporter": "python",
   "pygments_lexer": "ipython3",
   "version": "3.12.9"
  }
 },
 "nbformat": 4,
 "nbformat_minor": 5
}
