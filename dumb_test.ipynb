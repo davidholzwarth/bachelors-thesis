{
 "cells": [
  {
   "cell_type": "code",
   "execution_count": 2,
   "id": "09612a47",
   "metadata": {},
   "outputs": [
    {
     "name": "stderr",
     "output_type": "stream",
     "text": [
      "/opt/anaconda3/envs/thesis/lib/python3.12/site-packages/dash_bootstrap_components/_table.py:5: UserWarning: \n",
      "The dash_html_components package is deprecated. Please replace\n",
      "`import dash_html_components as html` with `from dash import html`\n",
      "  import dash_html_components as html\n"
     ]
    }
   ],
   "source": [
    "import networkx as nx\n",
    "import graph_tools\n",
    "import graph_viz\n"
   ]
  },
  {
   "cell_type": "code",
   "execution_count": 3,
   "id": "a688e0b4",
   "metadata": {},
   "outputs": [],
   "source": [
    "G = nx.DiGraph()\n",
    "\n",
    "# Add edges to form the cycle A -> B -> C -> A\n",
    "G.add_edges_from([\n",
    "    ('A', 'B'),\n",
    "    ('B', 'C'),\n",
    "    ('C', 'A'),\n",
    "    ('C', 'D'),\n",
    "])"
   ]
  },
  {
   "cell_type": "code",
   "execution_count": 7,
   "id": "b4c57979",
   "metadata": {},
   "outputs": [],
   "source": [
    "complete_graph = nx.gnp_random_graph(5, p=0.50, directed=True)\n",
    "complete_graph = graph_tools.nx_graph_nodes_to_str(complete_graph)\n",
    "delegation_graph = graph_tools.prepare_graph(complete_graph.nodes(), complete_graph.edges(), sink_frac = 0.1)\n",
    "delegations_orig = graph_tools.nx_graph_to_dict(delegation_graph)\n",
    "generator = nx.simple_cycles(delegation_graph)"
   ]
  },
  {
   "cell_type": "code",
   "execution_count": 8,
   "id": "6a687c76",
   "metadata": {},
   "outputs": [
    {
     "name": "stdout",
     "output_type": "stream",
     "text": [
      "['2', '0', '3']\n",
      "['2', '0', '4']\n",
      "['2', '0', '4', '3']\n",
      "['4', '3', '0']\n",
      "['0', '3']\n"
     ]
    }
   ],
   "source": [
    "for loop in generator:\n",
    "    print(loop)"
   ]
  },
  {
   "cell_type": "code",
   "execution_count": null,
   "id": "98849560",
   "metadata": {},
   "outputs": [],
   "source": []
  },
  {
   "cell_type": "code",
   "execution_count": null,
   "id": "9cb444f6",
   "metadata": {},
   "outputs": [],
   "source": []
  }
 ],
 "metadata": {
  "kernelspec": {
   "display_name": "thesis",
   "language": "python",
   "name": "python3"
  },
  "language_info": {
   "codemirror_mode": {
    "name": "ipython",
    "version": 3
   },
   "file_extension": ".py",
   "mimetype": "text/x-python",
   "name": "python",
   "nbconvert_exporter": "python",
   "pygments_lexer": "ipython3",
   "version": "3.12.9"
  }
 },
 "nbformat": 4,
 "nbformat_minor": 5
}
